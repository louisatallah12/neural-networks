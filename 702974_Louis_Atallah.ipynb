{
  "nbformat": 4,
  "nbformat_minor": 0,
  "metadata": {
    "colab": {
      "name": "702974-Louis-Atallah.ipynb",
      "provenance": [],
      "collapsed_sections": [],
      "toc_visible": true
    },
    "kernelspec": {
      "name": "python3",
      "display_name": "Python 3"
    }
  },
  "cells": [
    {
      "cell_type": "code",
      "metadata": {
        "id": "j3HVClKT82WV"
      },
      "source": [
        "import pandas as pd\r\n",
        "import numpy as np\r\n",
        "import matplotlib.pyplot as plt\r\n",
        "from sklearn.preprocessing import normalize\r\n",
        "from tensorflow import keras\r\n",
        "from keras.utils import to_categorical\r\n",
        "from keras.optimizers import RMSprop, Adagrad, Adam\r\n"
      ],
      "execution_count": 127,
      "outputs": []
    },
    {
      "cell_type": "code",
      "metadata": {
        "id": "lmeIHdKz_ncc"
      },
      "source": [
        "test = pd.read_csv(\"phpYLeydd_test.csv\", header = None)\r\n",
        "train = pd.read_csv(\"phpYLeydd_train_4.csv\", header = None)"
      ],
      "execution_count": 128,
      "outputs": []
    },
    {
      "cell_type": "code",
      "metadata": {
        "colab": {
          "base_uri": "https://localhost:8080/",
          "height": 299
        },
        "id": "IBhqNUKZAH8d",
        "outputId": "9cd75922-593b-4b59-8294-fb48629aa45a"
      },
      "source": [
        "train.head()"
      ],
      "execution_count": 129,
      "outputs": [
        {
          "output_type": "execute_result",
          "data": {
            "text/html": [
              "<div>\n",
              "<style scoped>\n",
              "    .dataframe tbody tr th:only-of-type {\n",
              "        vertical-align: middle;\n",
              "    }\n",
              "\n",
              "    .dataframe tbody tr th {\n",
              "        vertical-align: top;\n",
              "    }\n",
              "\n",
              "    .dataframe thead th {\n",
              "        text-align: right;\n",
              "    }\n",
              "</style>\n",
              "<table border=\"1\" class=\"dataframe\">\n",
              "  <thead>\n",
              "    <tr style=\"text-align: right;\">\n",
              "      <th></th>\n",
              "      <th>0</th>\n",
              "      <th>1</th>\n",
              "      <th>2</th>\n",
              "      <th>3</th>\n",
              "      <th>4</th>\n",
              "      <th>5</th>\n",
              "      <th>6</th>\n",
              "      <th>7</th>\n",
              "      <th>8</th>\n",
              "      <th>9</th>\n",
              "      <th>10</th>\n",
              "      <th>11</th>\n",
              "      <th>12</th>\n",
              "      <th>13</th>\n",
              "      <th>14</th>\n",
              "      <th>15</th>\n",
              "      <th>16</th>\n",
              "      <th>17</th>\n",
              "      <th>18</th>\n",
              "      <th>19</th>\n",
              "      <th>20</th>\n",
              "      <th>21</th>\n",
              "      <th>22</th>\n",
              "      <th>23</th>\n",
              "      <th>24</th>\n",
              "      <th>25</th>\n",
              "      <th>26</th>\n",
              "      <th>27</th>\n",
              "      <th>28</th>\n",
              "      <th>29</th>\n",
              "      <th>30</th>\n",
              "      <th>31</th>\n",
              "      <th>32</th>\n",
              "    </tr>\n",
              "  </thead>\n",
              "  <tbody>\n",
              "    <tr>\n",
              "      <th>0</th>\n",
              "      <td>0.000633</td>\n",
              "      <td>-0.000152</td>\n",
              "      <td>-0.000002</td>\n",
              "      <td>-0.000373</td>\n",
              "      <td>-0.000283</td>\n",
              "      <td>-3.400000e-07</td>\n",
              "      <td>0.000676</td>\n",
              "      <td>-0.000138</td>\n",
              "      <td>-0.000008</td>\n",
              "      <td>-0.000875</td>\n",
              "      <td>-0.000283</td>\n",
              "      <td>0.000003</td>\n",
              "      <td>0.000010</td>\n",
              "      <td>8.600000e-07</td>\n",
              "      <td>5.300000e-07</td>\n",
              "      <td>-0.000699</td>\n",
              "      <td>0.000491</td>\n",
              "      <td>-0.000050</td>\n",
              "      <td>0.000006</td>\n",
              "      <td>-5.600000e-07</td>\n",
              "      <td>0.000001</td>\n",
              "      <td>-0.000749</td>\n",
              "      <td>-0.000167</td>\n",
              "      <td>-0.000013</td>\n",
              "      <td>0.000651</td>\n",
              "      <td>0.000468</td>\n",
              "      <td>0.000690</td>\n",
              "      <td>0.000920</td>\n",
              "      <td>0.000010</td>\n",
              "      <td>0.000856</td>\n",
              "      <td>0.000006</td>\n",
              "      <td>0.000767</td>\n",
              "      <td>'D'</td>\n",
              "    </tr>\n",
              "    <tr>\n",
              "      <th>1</th>\n",
              "      <td>0.000123</td>\n",
              "      <td>0.001047</td>\n",
              "      <td>0.000086</td>\n",
              "      <td>-0.000401</td>\n",
              "      <td>0.001100</td>\n",
              "      <td>1.223100e-04</td>\n",
              "      <td>0.000250</td>\n",
              "      <td>0.000986</td>\n",
              "      <td>0.000007</td>\n",
              "      <td>-0.000226</td>\n",
              "      <td>0.001063</td>\n",
              "      <td>0.000021</td>\n",
              "      <td>-0.000036</td>\n",
              "      <td>-6.871000e-05</td>\n",
              "      <td>-1.018000e-05</td>\n",
              "      <td>0.000027</td>\n",
              "      <td>-0.000053</td>\n",
              "      <td>-0.000006</td>\n",
              "      <td>-0.000017</td>\n",
              "      <td>-5.143000e-05</td>\n",
              "      <td>-0.000003</td>\n",
              "      <td>0.000064</td>\n",
              "      <td>-0.000093</td>\n",
              "      <td>0.000005</td>\n",
              "      <td>0.001057</td>\n",
              "      <td>0.001177</td>\n",
              "      <td>0.001018</td>\n",
              "      <td>0.001087</td>\n",
              "      <td>0.000078</td>\n",
              "      <td>0.000060</td>\n",
              "      <td>0.000054</td>\n",
              "      <td>0.000113</td>\n",
              "      <td>'H'</td>\n",
              "    </tr>\n",
              "    <tr>\n",
              "      <th>2</th>\n",
              "      <td>0.006104</td>\n",
              "      <td>0.002797</td>\n",
              "      <td>-0.000024</td>\n",
              "      <td>-0.000015</td>\n",
              "      <td>-0.001238</td>\n",
              "      <td>7.484100e-04</td>\n",
              "      <td>-0.002624</td>\n",
              "      <td>0.000133</td>\n",
              "      <td>-0.000184</td>\n",
              "      <td>-0.001631</td>\n",
              "      <td>-0.002010</td>\n",
              "      <td>0.000517</td>\n",
              "      <td>-0.000708</td>\n",
              "      <td>-7.862000e-05</td>\n",
              "      <td>1.870000e-06</td>\n",
              "      <td>-0.000210</td>\n",
              "      <td>-0.000134</td>\n",
              "      <td>-0.000017</td>\n",
              "      <td>0.000765</td>\n",
              "      <td>6.546000e-05</td>\n",
              "      <td>0.000065</td>\n",
              "      <td>-0.000290</td>\n",
              "      <td>-0.000217</td>\n",
              "      <td>-0.000003</td>\n",
              "      <td>0.006715</td>\n",
              "      <td>0.001446</td>\n",
              "      <td>0.002634</td>\n",
              "      <td>0.002640</td>\n",
              "      <td>0.000712</td>\n",
              "      <td>0.000250</td>\n",
              "      <td>0.000770</td>\n",
              "      <td>0.000362</td>\n",
              "      <td>'P'</td>\n",
              "    </tr>\n",
              "    <tr>\n",
              "      <th>3</th>\n",
              "      <td>-0.007968</td>\n",
              "      <td>0.002198</td>\n",
              "      <td>0.000870</td>\n",
              "      <td>0.014916</td>\n",
              "      <td>0.019299</td>\n",
              "      <td>3.912580e-03</td>\n",
              "      <td>-0.010871</td>\n",
              "      <td>0.003741</td>\n",
              "      <td>0.001681</td>\n",
              "      <td>0.010360</td>\n",
              "      <td>0.012908</td>\n",
              "      <td>0.002453</td>\n",
              "      <td>0.000106</td>\n",
              "      <td>-1.507050e-03</td>\n",
              "      <td>-9.418000e-05</td>\n",
              "      <td>0.000390</td>\n",
              "      <td>0.000346</td>\n",
              "      <td>0.000056</td>\n",
              "      <td>-0.000360</td>\n",
              "      <td>-1.564130e-03</td>\n",
              "      <td>-0.000138</td>\n",
              "      <td>0.000059</td>\n",
              "      <td>0.000509</td>\n",
              "      <td>-0.000207</td>\n",
              "      <td>0.008311</td>\n",
              "      <td>0.024703</td>\n",
              "      <td>0.011619</td>\n",
              "      <td>0.016732</td>\n",
              "      <td>0.001514</td>\n",
              "      <td>0.000525</td>\n",
              "      <td>0.001611</td>\n",
              "      <td>0.000553</td>\n",
              "      <td>'P'</td>\n",
              "    </tr>\n",
              "    <tr>\n",
              "      <th>4</th>\n",
              "      <td>0.000025</td>\n",
              "      <td>-0.000394</td>\n",
              "      <td>0.000047</td>\n",
              "      <td>-0.000646</td>\n",
              "      <td>-0.000440</td>\n",
              "      <td>5.892000e-05</td>\n",
              "      <td>-0.000117</td>\n",
              "      <td>-0.000150</td>\n",
              "      <td>0.000004</td>\n",
              "      <td>-0.000313</td>\n",
              "      <td>-0.000216</td>\n",
              "      <td>0.000101</td>\n",
              "      <td>-0.000086</td>\n",
              "      <td>3.276000e-05</td>\n",
              "      <td>-2.500000e-06</td>\n",
              "      <td>-0.000087</td>\n",
              "      <td>0.000009</td>\n",
              "      <td>0.000010</td>\n",
              "      <td>-0.000010</td>\n",
              "      <td>9.200000e-07</td>\n",
              "      <td>0.000003</td>\n",
              "      <td>-0.000047</td>\n",
              "      <td>0.000013</td>\n",
              "      <td>0.000005</td>\n",
              "      <td>0.000397</td>\n",
              "      <td>0.000784</td>\n",
              "      <td>0.000190</td>\n",
              "      <td>0.000393</td>\n",
              "      <td>0.000092</td>\n",
              "      <td>0.000088</td>\n",
              "      <td>0.000010</td>\n",
              "      <td>0.000049</td>\n",
              "      <td>'D'</td>\n",
              "    </tr>\n",
              "  </tbody>\n",
              "</table>\n",
              "</div>"
            ],
            "text/plain": [
              "         0         1         2         3   ...        29        30        31   32\n",
              "0  0.000633 -0.000152 -0.000002 -0.000373  ...  0.000856  0.000006  0.000767  'D'\n",
              "1  0.000123  0.001047  0.000086 -0.000401  ...  0.000060  0.000054  0.000113  'H'\n",
              "2  0.006104  0.002797 -0.000024 -0.000015  ...  0.000250  0.000770  0.000362  'P'\n",
              "3 -0.007968  0.002198  0.000870  0.014916  ...  0.000525  0.001611  0.000553  'P'\n",
              "4  0.000025 -0.000394  0.000047 -0.000646  ...  0.000088  0.000010  0.000049  'D'\n",
              "\n",
              "[5 rows x 33 columns]"
            ]
          },
          "metadata": {
            "tags": []
          },
          "execution_count": 129
        }
      ]
    },
    {
      "cell_type": "code",
      "metadata": {
        "colab": {
          "base_uri": "https://localhost:8080/"
        },
        "id": "eHnQOECUApqs",
        "outputId": "b3f99313-5df2-4ab1-dc5a-2eb4e0823fd3"
      },
      "source": [
        "train.shape, test.shape"
      ],
      "execution_count": 130,
      "outputs": [
        {
          "output_type": "execute_result",
          "data": {
            "text/plain": [
              "((7869, 33), (2004, 33))"
            ]
          },
          "metadata": {
            "tags": []
          },
          "execution_count": 130
        }
      ]
    },
    {
      "cell_type": "code",
      "metadata": {
        "id": "6wvN-5DgA06D"
      },
      "source": [
        "train_X = train.iloc[:,:-1].values\r\n",
        "train_y = train.iloc[:,-1].values\r\n",
        "test_X = test.iloc[:,:-1].values\r\n",
        "test_y = test.iloc[:,-1].values"
      ],
      "execution_count": 131,
      "outputs": []
    },
    {
      "cell_type": "code",
      "metadata": {
        "id": "YIqbTKPBBcFE"
      },
      "source": [
        "train_X = normalize(train_X)\r\n",
        "test_X = normalize(test_X)"
      ],
      "execution_count": 132,
      "outputs": []
    },
    {
      "cell_type": "markdown",
      "metadata": {
        "id": "HHadvPmfE2M5"
      },
      "source": [
        "### Replacing the characters by int to proceed with the implementation"
      ]
    },
    {
      "cell_type": "code",
      "metadata": {
        "id": "BkNhrpmgB1nz"
      },
      "source": [
        "def replace(Y) : \r\n",
        "  for i in range(len(Y)): \r\n",
        "    if Y[i]== \"'D'\":\r\n",
        "      Y[i]=0\r\n",
        "    if Y[i]== \"'P'\":\r\n",
        "      Y[i]=1\r\n",
        "    if Y[i]== \"'S'\":\r\n",
        "      Y[i]=2\r\n",
        "    if Y[i]== \"'H'\":\r\n",
        "      Y[i]=3\r\n",
        "    if Y[i]== \"'R'\":\r\n",
        "      Y[i]=4\r\n",
        "  return Y"
      ],
      "execution_count": 133,
      "outputs": []
    },
    {
      "cell_type": "code",
      "metadata": {
        "id": "G8pzKyWeEGY-"
      },
      "source": [
        "test_y = replace(test_y)"
      ],
      "execution_count": 134,
      "outputs": []
    },
    {
      "cell_type": "code",
      "metadata": {
        "id": "MLmoYP7bEbI3"
      },
      "source": [
        "train_y = replace(train_y)"
      ],
      "execution_count": 135,
      "outputs": []
    },
    {
      "cell_type": "code",
      "metadata": {
        "colab": {
          "base_uri": "https://localhost:8080/"
        },
        "id": "s0U7e3NVEX_p",
        "outputId": "cff2c459-a046-49e7-9797-de27d9e5052c"
      },
      "source": [
        "train_y"
      ],
      "execution_count": 136,
      "outputs": [
        {
          "output_type": "execute_result",
          "data": {
            "text/plain": [
              "array([0, 3, 1, ..., 1, 1, 2], dtype=object)"
            ]
          },
          "metadata": {
            "tags": []
          },
          "execution_count": 136
        }
      ]
    },
    {
      "cell_type": "code",
      "metadata": {
        "id": "nXBlQhRJErPE"
      },
      "source": [
        "train_y = to_categorical(train_y, num_classes=5)\r\n",
        "test_y = to_categorical(test_y, num_classes=5)"
      ],
      "execution_count": 137,
      "outputs": []
    },
    {
      "cell_type": "markdown",
      "metadata": {
        "id": "7daDwLKMEz0M"
      },
      "source": [
        "### Now the data preprocessing done, let's start with applying some neural networks"
      ]
    },
    {
      "cell_type": "markdown",
      "metadata": {
        "id": "iPL2bdu_Gigm"
      },
      "source": [
        "Let's start with a 2 layer network, with 24 neurons on the first layer and 5 on the second as the possible outputs"
      ]
    },
    {
      "cell_type": "markdown",
      "metadata": {
        "id": "w0nR5OIdbQKY"
      },
      "source": [
        "### First network"
      ]
    },
    {
      "cell_type": "code",
      "metadata": {
        "id": "cc0U2ahIFTJe"
      },
      "source": [
        "model_1 = keras.Sequential()\r\n",
        "model_1.add(keras.layers.Dense(24, input_dim = 32, activation = \"relu\"))\r\n",
        "model_1.add(keras.layers.Dense(5, activation= \"softmax\"))"
      ],
      "execution_count": 138,
      "outputs": []
    },
    {
      "cell_type": "code",
      "metadata": {
        "id": "i0obw4aaGEQF"
      },
      "source": [
        "model_1.compile(optimizer='adam', loss = \"categorical_crossentropy\", metrics = [\"accuracy\"])"
      ],
      "execution_count": 139,
      "outputs": []
    },
    {
      "cell_type": "code",
      "metadata": {
        "colab": {
          "base_uri": "https://localhost:8080/"
        },
        "id": "0Zpk2fJvGVBZ",
        "outputId": "f4512104-0eb8-4be5-c314-f6b9be5f7841"
      },
      "source": [
        "history = model_1.fit(train_X, train_y, validation_split=0.2, batch_size=512, epochs=200)"
      ],
      "execution_count": 140,
      "outputs": [
        {
          "output_type": "stream",
          "text": [
            "Epoch 1/200\n",
            "13/13 [==============================] - 1s 19ms/step - loss: 1.6074 - accuracy: 0.2035 - val_loss: 1.5840 - val_accuracy: 0.2522\n",
            "Epoch 2/200\n",
            "13/13 [==============================] - 0s 5ms/step - loss: 1.5785 - accuracy: 0.2559 - val_loss: 1.5585 - val_accuracy: 0.2980\n",
            "Epoch 3/200\n",
            "13/13 [==============================] - 0s 6ms/step - loss: 1.5511 - accuracy: 0.2974 - val_loss: 1.5366 - val_accuracy: 0.3119\n",
            "Epoch 4/200\n",
            "13/13 [==============================] - 0s 5ms/step - loss: 1.5313 - accuracy: 0.3083 - val_loss: 1.5176 - val_accuracy: 0.3202\n",
            "Epoch 5/200\n",
            "13/13 [==============================] - 0s 5ms/step - loss: 1.5113 - accuracy: 0.3180 - val_loss: 1.5017 - val_accuracy: 0.3304\n",
            "Epoch 6/200\n",
            "13/13 [==============================] - 0s 5ms/step - loss: 1.4973 - accuracy: 0.3281 - val_loss: 1.4888 - val_accuracy: 0.3380\n",
            "Epoch 7/200\n",
            "13/13 [==============================] - 0s 6ms/step - loss: 1.4791 - accuracy: 0.3389 - val_loss: 1.4787 - val_accuracy: 0.3469\n",
            "Epoch 8/200\n",
            "13/13 [==============================] - 0s 6ms/step - loss: 1.4758 - accuracy: 0.3440 - val_loss: 1.4706 - val_accuracy: 0.3520\n",
            "Epoch 9/200\n",
            "13/13 [==============================] - 0s 6ms/step - loss: 1.4701 - accuracy: 0.3462 - val_loss: 1.4634 - val_accuracy: 0.3545\n",
            "Epoch 10/200\n",
            "13/13 [==============================] - 0s 6ms/step - loss: 1.4545 - accuracy: 0.3560 - val_loss: 1.4574 - val_accuracy: 0.3621\n",
            "Epoch 11/200\n",
            "13/13 [==============================] - 0s 6ms/step - loss: 1.4551 - accuracy: 0.3602 - val_loss: 1.4521 - val_accuracy: 0.3634\n",
            "Epoch 12/200\n",
            "13/13 [==============================] - 0s 6ms/step - loss: 1.4422 - accuracy: 0.3699 - val_loss: 1.4471 - val_accuracy: 0.3717\n",
            "Epoch 13/200\n",
            "13/13 [==============================] - 0s 6ms/step - loss: 1.4330 - accuracy: 0.3817 - val_loss: 1.4416 - val_accuracy: 0.3761\n",
            "Epoch 14/200\n",
            "13/13 [==============================] - 0s 6ms/step - loss: 1.4283 - accuracy: 0.3854 - val_loss: 1.4370 - val_accuracy: 0.3818\n",
            "Epoch 15/200\n",
            "13/13 [==============================] - 0s 5ms/step - loss: 1.4288 - accuracy: 0.3907 - val_loss: 1.4329 - val_accuracy: 0.3818\n",
            "Epoch 16/200\n",
            "13/13 [==============================] - 0s 5ms/step - loss: 1.4238 - accuracy: 0.3933 - val_loss: 1.4290 - val_accuracy: 0.3825\n",
            "Epoch 17/200\n",
            "13/13 [==============================] - 0s 6ms/step - loss: 1.4187 - accuracy: 0.3936 - val_loss: 1.4259 - val_accuracy: 0.3825\n",
            "Epoch 18/200\n",
            "13/13 [==============================] - 0s 5ms/step - loss: 1.4144 - accuracy: 0.3887 - val_loss: 1.4220 - val_accuracy: 0.3837\n",
            "Epoch 19/200\n",
            "13/13 [==============================] - 0s 5ms/step - loss: 1.4087 - accuracy: 0.4040 - val_loss: 1.4185 - val_accuracy: 0.3895\n",
            "Epoch 20/200\n",
            "13/13 [==============================] - 0s 5ms/step - loss: 1.4183 - accuracy: 0.4001 - val_loss: 1.4157 - val_accuracy: 0.3888\n",
            "Epoch 21/200\n",
            "13/13 [==============================] - 0s 5ms/step - loss: 1.3982 - accuracy: 0.4083 - val_loss: 1.4125 - val_accuracy: 0.3875\n",
            "Epoch 22/200\n",
            "13/13 [==============================] - 0s 5ms/step - loss: 1.3902 - accuracy: 0.4211 - val_loss: 1.4092 - val_accuracy: 0.3920\n",
            "Epoch 23/200\n",
            "13/13 [==============================] - 0s 5ms/step - loss: 1.3938 - accuracy: 0.4174 - val_loss: 1.4057 - val_accuracy: 0.3939\n",
            "Epoch 24/200\n",
            "13/13 [==============================] - 0s 5ms/step - loss: 1.3858 - accuracy: 0.4155 - val_loss: 1.4029 - val_accuracy: 0.3996\n",
            "Epoch 25/200\n",
            "13/13 [==============================] - 0s 6ms/step - loss: 1.3923 - accuracy: 0.4178 - val_loss: 1.4002 - val_accuracy: 0.4015\n",
            "Epoch 26/200\n",
            "13/13 [==============================] - 0s 5ms/step - loss: 1.3768 - accuracy: 0.4285 - val_loss: 1.3968 - val_accuracy: 0.4003\n",
            "Epoch 27/200\n",
            "13/13 [==============================] - 0s 5ms/step - loss: 1.3701 - accuracy: 0.4241 - val_loss: 1.3945 - val_accuracy: 0.4003\n",
            "Epoch 28/200\n",
            "13/13 [==============================] - 0s 5ms/step - loss: 1.3751 - accuracy: 0.4305 - val_loss: 1.3923 - val_accuracy: 0.4072\n",
            "Epoch 29/200\n",
            "13/13 [==============================] - 0s 5ms/step - loss: 1.3627 - accuracy: 0.4361 - val_loss: 1.3898 - val_accuracy: 0.4022\n",
            "Epoch 30/200\n",
            "13/13 [==============================] - 0s 5ms/step - loss: 1.3586 - accuracy: 0.4399 - val_loss: 1.3875 - val_accuracy: 0.4047\n",
            "Epoch 31/200\n",
            "13/13 [==============================] - 0s 5ms/step - loss: 1.3591 - accuracy: 0.4351 - val_loss: 1.3847 - val_accuracy: 0.4053\n",
            "Epoch 32/200\n",
            "13/13 [==============================] - 0s 5ms/step - loss: 1.3661 - accuracy: 0.4337 - val_loss: 1.3825 - val_accuracy: 0.4053\n",
            "Epoch 33/200\n",
            "13/13 [==============================] - 0s 5ms/step - loss: 1.3624 - accuracy: 0.4374 - val_loss: 1.3819 - val_accuracy: 0.4079\n",
            "Epoch 34/200\n",
            "13/13 [==============================] - 0s 5ms/step - loss: 1.3510 - accuracy: 0.4463 - val_loss: 1.3784 - val_accuracy: 0.4104\n",
            "Epoch 35/200\n",
            "13/13 [==============================] - 0s 5ms/step - loss: 1.3511 - accuracy: 0.4438 - val_loss: 1.3765 - val_accuracy: 0.4072\n",
            "Epoch 36/200\n",
            "13/13 [==============================] - 0s 5ms/step - loss: 1.3483 - accuracy: 0.4470 - val_loss: 1.3749 - val_accuracy: 0.4098\n",
            "Epoch 37/200\n",
            "13/13 [==============================] - 0s 5ms/step - loss: 1.3471 - accuracy: 0.4481 - val_loss: 1.3733 - val_accuracy: 0.4155\n",
            "Epoch 38/200\n",
            "13/13 [==============================] - 0s 5ms/step - loss: 1.3435 - accuracy: 0.4525 - val_loss: 1.3710 - val_accuracy: 0.4187\n",
            "Epoch 39/200\n",
            "13/13 [==============================] - 0s 6ms/step - loss: 1.3394 - accuracy: 0.4568 - val_loss: 1.3700 - val_accuracy: 0.4180\n",
            "Epoch 40/200\n",
            "13/13 [==============================] - 0s 5ms/step - loss: 1.3432 - accuracy: 0.4533 - val_loss: 1.3687 - val_accuracy: 0.4193\n",
            "Epoch 41/200\n",
            "13/13 [==============================] - 0s 5ms/step - loss: 1.3385 - accuracy: 0.4485 - val_loss: 1.3672 - val_accuracy: 0.4206\n",
            "Epoch 42/200\n",
            "13/13 [==============================] - 0s 5ms/step - loss: 1.3401 - accuracy: 0.4533 - val_loss: 1.3657 - val_accuracy: 0.4180\n",
            "Epoch 43/200\n",
            "13/13 [==============================] - 0s 5ms/step - loss: 1.3262 - accuracy: 0.4594 - val_loss: 1.3634 - val_accuracy: 0.4212\n",
            "Epoch 44/200\n",
            "13/13 [==============================] - 0s 5ms/step - loss: 1.3256 - accuracy: 0.4642 - val_loss: 1.3620 - val_accuracy: 0.4276\n",
            "Epoch 45/200\n",
            "13/13 [==============================] - 0s 5ms/step - loss: 1.3356 - accuracy: 0.4550 - val_loss: 1.3611 - val_accuracy: 0.4269\n",
            "Epoch 46/200\n",
            "13/13 [==============================] - 0s 5ms/step - loss: 1.3310 - accuracy: 0.4570 - val_loss: 1.3590 - val_accuracy: 0.4295\n",
            "Epoch 47/200\n",
            "13/13 [==============================] - 0s 5ms/step - loss: 1.3366 - accuracy: 0.4442 - val_loss: 1.3574 - val_accuracy: 0.4314\n",
            "Epoch 48/200\n",
            "13/13 [==============================] - 0s 6ms/step - loss: 1.3184 - accuracy: 0.4609 - val_loss: 1.3561 - val_accuracy: 0.4282\n",
            "Epoch 49/200\n",
            "13/13 [==============================] - 0s 5ms/step - loss: 1.3285 - accuracy: 0.4452 - val_loss: 1.3546 - val_accuracy: 0.4307\n",
            "Epoch 50/200\n",
            "13/13 [==============================] - 0s 5ms/step - loss: 1.3163 - accuracy: 0.4588 - val_loss: 1.3527 - val_accuracy: 0.4288\n",
            "Epoch 51/200\n",
            "13/13 [==============================] - 0s 5ms/step - loss: 1.3126 - accuracy: 0.4602 - val_loss: 1.3533 - val_accuracy: 0.4327\n",
            "Epoch 52/200\n",
            "13/13 [==============================] - 0s 5ms/step - loss: 1.3210 - accuracy: 0.4532 - val_loss: 1.3505 - val_accuracy: 0.4263\n",
            "Epoch 53/200\n",
            "13/13 [==============================] - 0s 6ms/step - loss: 1.3179 - accuracy: 0.4560 - val_loss: 1.3509 - val_accuracy: 0.4339\n",
            "Epoch 54/200\n",
            "13/13 [==============================] - 0s 5ms/step - loss: 1.3142 - accuracy: 0.4585 - val_loss: 1.3491 - val_accuracy: 0.4327\n",
            "Epoch 55/200\n",
            "13/13 [==============================] - 0s 5ms/step - loss: 1.3078 - accuracy: 0.4603 - val_loss: 1.3470 - val_accuracy: 0.4307\n",
            "Epoch 56/200\n",
            "13/13 [==============================] - 0s 5ms/step - loss: 1.3122 - accuracy: 0.4586 - val_loss: 1.3465 - val_accuracy: 0.4365\n",
            "Epoch 57/200\n",
            "13/13 [==============================] - 0s 5ms/step - loss: 1.3092 - accuracy: 0.4589 - val_loss: 1.3450 - val_accuracy: 0.4365\n",
            "Epoch 58/200\n",
            "13/13 [==============================] - 0s 5ms/step - loss: 1.3119 - accuracy: 0.4567 - val_loss: 1.3437 - val_accuracy: 0.4358\n",
            "Epoch 59/200\n",
            "13/13 [==============================] - 0s 5ms/step - loss: 1.3131 - accuracy: 0.4648 - val_loss: 1.3443 - val_accuracy: 0.4390\n",
            "Epoch 60/200\n",
            "13/13 [==============================] - 0s 5ms/step - loss: 1.2991 - accuracy: 0.4728 - val_loss: 1.3419 - val_accuracy: 0.4384\n",
            "Epoch 61/200\n",
            "13/13 [==============================] - 0s 5ms/step - loss: 1.3125 - accuracy: 0.4585 - val_loss: 1.3408 - val_accuracy: 0.4416\n",
            "Epoch 62/200\n",
            "13/13 [==============================] - 0s 6ms/step - loss: 1.3107 - accuracy: 0.4588 - val_loss: 1.3404 - val_accuracy: 0.4403\n",
            "Epoch 63/200\n",
            "13/13 [==============================] - 0s 6ms/step - loss: 1.3075 - accuracy: 0.4644 - val_loss: 1.3397 - val_accuracy: 0.4390\n",
            "Epoch 64/200\n",
            "13/13 [==============================] - 0s 5ms/step - loss: 1.2944 - accuracy: 0.4689 - val_loss: 1.3386 - val_accuracy: 0.4377\n",
            "Epoch 65/200\n",
            "13/13 [==============================] - 0s 5ms/step - loss: 1.3084 - accuracy: 0.4570 - val_loss: 1.3379 - val_accuracy: 0.4409\n",
            "Epoch 66/200\n",
            "13/13 [==============================] - 0s 5ms/step - loss: 1.2948 - accuracy: 0.4653 - val_loss: 1.3373 - val_accuracy: 0.4416\n",
            "Epoch 67/200\n",
            "13/13 [==============================] - 0s 6ms/step - loss: 1.2932 - accuracy: 0.4660 - val_loss: 1.3359 - val_accuracy: 0.4441\n",
            "Epoch 68/200\n",
            "13/13 [==============================] - 0s 5ms/step - loss: 1.3024 - accuracy: 0.4599 - val_loss: 1.3345 - val_accuracy: 0.4447\n",
            "Epoch 69/200\n",
            "13/13 [==============================] - 0s 5ms/step - loss: 1.2997 - accuracy: 0.4629 - val_loss: 1.3339 - val_accuracy: 0.4466\n",
            "Epoch 70/200\n",
            "13/13 [==============================] - 0s 5ms/step - loss: 1.2994 - accuracy: 0.4674 - val_loss: 1.3329 - val_accuracy: 0.4479\n",
            "Epoch 71/200\n",
            "13/13 [==============================] - 0s 5ms/step - loss: 1.2947 - accuracy: 0.4623 - val_loss: 1.3329 - val_accuracy: 0.4454\n",
            "Epoch 72/200\n",
            "13/13 [==============================] - 0s 6ms/step - loss: 1.2863 - accuracy: 0.4765 - val_loss: 1.3325 - val_accuracy: 0.4466\n",
            "Epoch 73/200\n",
            "13/13 [==============================] - 0s 5ms/step - loss: 1.2833 - accuracy: 0.4743 - val_loss: 1.3314 - val_accuracy: 0.4485\n",
            "Epoch 74/200\n",
            "13/13 [==============================] - 0s 5ms/step - loss: 1.2842 - accuracy: 0.4702 - val_loss: 1.3300 - val_accuracy: 0.4517\n",
            "Epoch 75/200\n",
            "13/13 [==============================] - 0s 5ms/step - loss: 1.2849 - accuracy: 0.4758 - val_loss: 1.3300 - val_accuracy: 0.4524\n",
            "Epoch 76/200\n",
            "13/13 [==============================] - 0s 5ms/step - loss: 1.2819 - accuracy: 0.4742 - val_loss: 1.3294 - val_accuracy: 0.4504\n",
            "Epoch 77/200\n",
            "13/13 [==============================] - 0s 5ms/step - loss: 1.2885 - accuracy: 0.4694 - val_loss: 1.3289 - val_accuracy: 0.4479\n",
            "Epoch 78/200\n",
            "13/13 [==============================] - 0s 5ms/step - loss: 1.2825 - accuracy: 0.4725 - val_loss: 1.3279 - val_accuracy: 0.4466\n",
            "Epoch 79/200\n",
            "13/13 [==============================] - 0s 5ms/step - loss: 1.2834 - accuracy: 0.4687 - val_loss: 1.3267 - val_accuracy: 0.4504\n",
            "Epoch 80/200\n",
            "13/13 [==============================] - 0s 5ms/step - loss: 1.2800 - accuracy: 0.4777 - val_loss: 1.3268 - val_accuracy: 0.4543\n",
            "Epoch 81/200\n",
            "13/13 [==============================] - 0s 5ms/step - loss: 1.2782 - accuracy: 0.4783 - val_loss: 1.3253 - val_accuracy: 0.4549\n",
            "Epoch 82/200\n",
            "13/13 [==============================] - 0s 6ms/step - loss: 1.2836 - accuracy: 0.4712 - val_loss: 1.3251 - val_accuracy: 0.4536\n",
            "Epoch 83/200\n",
            "13/13 [==============================] - 0s 5ms/step - loss: 1.2728 - accuracy: 0.4823 - val_loss: 1.3239 - val_accuracy: 0.4524\n",
            "Epoch 84/200\n",
            "13/13 [==============================] - 0s 6ms/step - loss: 1.2847 - accuracy: 0.4728 - val_loss: 1.3246 - val_accuracy: 0.4530\n",
            "Epoch 85/200\n",
            "13/13 [==============================] - 0s 5ms/step - loss: 1.2790 - accuracy: 0.4772 - val_loss: 1.3236 - val_accuracy: 0.4549\n",
            "Epoch 86/200\n",
            "13/13 [==============================] - 0s 5ms/step - loss: 1.2752 - accuracy: 0.4781 - val_loss: 1.3236 - val_accuracy: 0.4568\n",
            "Epoch 87/200\n",
            "13/13 [==============================] - 0s 5ms/step - loss: 1.2680 - accuracy: 0.4875 - val_loss: 1.3223 - val_accuracy: 0.4549\n",
            "Epoch 88/200\n",
            "13/13 [==============================] - 0s 5ms/step - loss: 1.2750 - accuracy: 0.4787 - val_loss: 1.3209 - val_accuracy: 0.4549\n",
            "Epoch 89/200\n",
            "13/13 [==============================] - 0s 5ms/step - loss: 1.2691 - accuracy: 0.4791 - val_loss: 1.3212 - val_accuracy: 0.4574\n",
            "Epoch 90/200\n",
            "13/13 [==============================] - 0s 5ms/step - loss: 1.2824 - accuracy: 0.4758 - val_loss: 1.3208 - val_accuracy: 0.4587\n",
            "Epoch 91/200\n",
            "13/13 [==============================] - 0s 6ms/step - loss: 1.2765 - accuracy: 0.4835 - val_loss: 1.3199 - val_accuracy: 0.4568\n",
            "Epoch 92/200\n",
            "13/13 [==============================] - 0s 5ms/step - loss: 1.2785 - accuracy: 0.4733 - val_loss: 1.3192 - val_accuracy: 0.4562\n",
            "Epoch 93/200\n",
            "13/13 [==============================] - 0s 6ms/step - loss: 1.2631 - accuracy: 0.4902 - val_loss: 1.3196 - val_accuracy: 0.4574\n",
            "Epoch 94/200\n",
            "13/13 [==============================] - 0s 6ms/step - loss: 1.2866 - accuracy: 0.4774 - val_loss: 1.3188 - val_accuracy: 0.4619\n",
            "Epoch 95/200\n",
            "13/13 [==============================] - 0s 6ms/step - loss: 1.2732 - accuracy: 0.4773 - val_loss: 1.3183 - val_accuracy: 0.4612\n",
            "Epoch 96/200\n",
            "13/13 [==============================] - 0s 6ms/step - loss: 1.2761 - accuracy: 0.4801 - val_loss: 1.3180 - val_accuracy: 0.4549\n",
            "Epoch 97/200\n",
            "13/13 [==============================] - 0s 5ms/step - loss: 1.2667 - accuracy: 0.4880 - val_loss: 1.3173 - val_accuracy: 0.4606\n",
            "Epoch 98/200\n",
            "13/13 [==============================] - 0s 5ms/step - loss: 1.2740 - accuracy: 0.4773 - val_loss: 1.3173 - val_accuracy: 0.4612\n",
            "Epoch 99/200\n",
            "13/13 [==============================] - 0s 5ms/step - loss: 1.2820 - accuracy: 0.4748 - val_loss: 1.3166 - val_accuracy: 0.4568\n",
            "Epoch 100/200\n",
            "13/13 [==============================] - 0s 6ms/step - loss: 1.2541 - accuracy: 0.4907 - val_loss: 1.3164 - val_accuracy: 0.4581\n",
            "Epoch 101/200\n",
            "13/13 [==============================] - 0s 6ms/step - loss: 1.2652 - accuracy: 0.4806 - val_loss: 1.3158 - val_accuracy: 0.4593\n",
            "Epoch 102/200\n",
            "13/13 [==============================] - 0s 5ms/step - loss: 1.2670 - accuracy: 0.4863 - val_loss: 1.3154 - val_accuracy: 0.4606\n",
            "Epoch 103/200\n",
            "13/13 [==============================] - 0s 5ms/step - loss: 1.2558 - accuracy: 0.4868 - val_loss: 1.3155 - val_accuracy: 0.4619\n",
            "Epoch 104/200\n",
            "13/13 [==============================] - 0s 5ms/step - loss: 1.2558 - accuracy: 0.4951 - val_loss: 1.3155 - val_accuracy: 0.4606\n",
            "Epoch 105/200\n",
            "13/13 [==============================] - 0s 5ms/step - loss: 1.2513 - accuracy: 0.4980 - val_loss: 1.3143 - val_accuracy: 0.4606\n",
            "Epoch 106/200\n",
            "13/13 [==============================] - 0s 5ms/step - loss: 1.2467 - accuracy: 0.4972 - val_loss: 1.3142 - val_accuracy: 0.4625\n",
            "Epoch 107/200\n",
            "13/13 [==============================] - 0s 6ms/step - loss: 1.2475 - accuracy: 0.4929 - val_loss: 1.3138 - val_accuracy: 0.4651\n",
            "Epoch 108/200\n",
            "13/13 [==============================] - 0s 6ms/step - loss: 1.2542 - accuracy: 0.4937 - val_loss: 1.3127 - val_accuracy: 0.4600\n",
            "Epoch 109/200\n",
            "13/13 [==============================] - 0s 6ms/step - loss: 1.2503 - accuracy: 0.4870 - val_loss: 1.3127 - val_accuracy: 0.4600\n",
            "Epoch 110/200\n",
            "13/13 [==============================] - 0s 5ms/step - loss: 1.2591 - accuracy: 0.4868 - val_loss: 1.3127 - val_accuracy: 0.4651\n",
            "Epoch 111/200\n",
            "13/13 [==============================] - 0s 6ms/step - loss: 1.2577 - accuracy: 0.4857 - val_loss: 1.3131 - val_accuracy: 0.4612\n",
            "Epoch 112/200\n",
            "13/13 [==============================] - 0s 5ms/step - loss: 1.2669 - accuracy: 0.4809 - val_loss: 1.3122 - val_accuracy: 0.4638\n",
            "Epoch 113/200\n",
            "13/13 [==============================] - 0s 5ms/step - loss: 1.2473 - accuracy: 0.4887 - val_loss: 1.3124 - val_accuracy: 0.4619\n",
            "Epoch 114/200\n",
            "13/13 [==============================] - 0s 6ms/step - loss: 1.2539 - accuracy: 0.4897 - val_loss: 1.3112 - val_accuracy: 0.4625\n",
            "Epoch 115/200\n",
            "13/13 [==============================] - 0s 6ms/step - loss: 1.2659 - accuracy: 0.4870 - val_loss: 1.3105 - val_accuracy: 0.4644\n",
            "Epoch 116/200\n",
            "13/13 [==============================] - 0s 6ms/step - loss: 1.2525 - accuracy: 0.4908 - val_loss: 1.3108 - val_accuracy: 0.4657\n",
            "Epoch 117/200\n",
            "13/13 [==============================] - 0s 5ms/step - loss: 1.2431 - accuracy: 0.4921 - val_loss: 1.3094 - val_accuracy: 0.4587\n",
            "Epoch 118/200\n",
            "13/13 [==============================] - 0s 5ms/step - loss: 1.2426 - accuracy: 0.4907 - val_loss: 1.3100 - val_accuracy: 0.4612\n",
            "Epoch 119/200\n",
            "13/13 [==============================] - 0s 6ms/step - loss: 1.2576 - accuracy: 0.4876 - val_loss: 1.3101 - val_accuracy: 0.4644\n",
            "Epoch 120/200\n",
            "13/13 [==============================] - 0s 5ms/step - loss: 1.2555 - accuracy: 0.4865 - val_loss: 1.3093 - val_accuracy: 0.4612\n",
            "Epoch 121/200\n",
            "13/13 [==============================] - 0s 6ms/step - loss: 1.2440 - accuracy: 0.4892 - val_loss: 1.3091 - val_accuracy: 0.4625\n",
            "Epoch 122/200\n",
            "13/13 [==============================] - 0s 6ms/step - loss: 1.2598 - accuracy: 0.4844 - val_loss: 1.3083 - val_accuracy: 0.4638\n",
            "Epoch 123/200\n",
            "13/13 [==============================] - 0s 5ms/step - loss: 1.2528 - accuracy: 0.4916 - val_loss: 1.3081 - val_accuracy: 0.4625\n",
            "Epoch 124/200\n",
            "13/13 [==============================] - 0s 6ms/step - loss: 1.2533 - accuracy: 0.4920 - val_loss: 1.3087 - val_accuracy: 0.4651\n",
            "Epoch 125/200\n",
            "13/13 [==============================] - 0s 5ms/step - loss: 1.2415 - accuracy: 0.4934 - val_loss: 1.3077 - val_accuracy: 0.4625\n",
            "Epoch 126/200\n",
            "13/13 [==============================] - 0s 6ms/step - loss: 1.2469 - accuracy: 0.4898 - val_loss: 1.3072 - val_accuracy: 0.4638\n",
            "Epoch 127/200\n",
            "13/13 [==============================] - 0s 5ms/step - loss: 1.2518 - accuracy: 0.4869 - val_loss: 1.3069 - val_accuracy: 0.4670\n",
            "Epoch 128/200\n",
            "13/13 [==============================] - 0s 5ms/step - loss: 1.2295 - accuracy: 0.5019 - val_loss: 1.3068 - val_accuracy: 0.4657\n",
            "Epoch 129/200\n",
            "13/13 [==============================] - 0s 6ms/step - loss: 1.2481 - accuracy: 0.4903 - val_loss: 1.3066 - val_accuracy: 0.4638\n",
            "Epoch 130/200\n",
            "13/13 [==============================] - 0s 6ms/step - loss: 1.2457 - accuracy: 0.4880 - val_loss: 1.3063 - val_accuracy: 0.4663\n",
            "Epoch 131/200\n",
            "13/13 [==============================] - 0s 6ms/step - loss: 1.2441 - accuracy: 0.4932 - val_loss: 1.3057 - val_accuracy: 0.4682\n",
            "Epoch 132/200\n",
            "13/13 [==============================] - 0s 5ms/step - loss: 1.2421 - accuracy: 0.4938 - val_loss: 1.3052 - val_accuracy: 0.4632\n",
            "Epoch 133/200\n",
            "13/13 [==============================] - 0s 5ms/step - loss: 1.2393 - accuracy: 0.4966 - val_loss: 1.3054 - val_accuracy: 0.4670\n",
            "Epoch 134/200\n",
            "13/13 [==============================] - 0s 5ms/step - loss: 1.2333 - accuracy: 0.4929 - val_loss: 1.3050 - val_accuracy: 0.4619\n",
            "Epoch 135/200\n",
            "13/13 [==============================] - 0s 5ms/step - loss: 1.2421 - accuracy: 0.4953 - val_loss: 1.3041 - val_accuracy: 0.4612\n",
            "Epoch 136/200\n",
            "13/13 [==============================] - 0s 6ms/step - loss: 1.2403 - accuracy: 0.4894 - val_loss: 1.3043 - val_accuracy: 0.4593\n",
            "Epoch 137/200\n",
            "13/13 [==============================] - 0s 5ms/step - loss: 1.2420 - accuracy: 0.4969 - val_loss: 1.3039 - val_accuracy: 0.4663\n",
            "Epoch 138/200\n",
            "13/13 [==============================] - 0s 5ms/step - loss: 1.2357 - accuracy: 0.4941 - val_loss: 1.3046 - val_accuracy: 0.4663\n",
            "Epoch 139/200\n",
            "13/13 [==============================] - 0s 6ms/step - loss: 1.2364 - accuracy: 0.4993 - val_loss: 1.3028 - val_accuracy: 0.4612\n",
            "Epoch 140/200\n",
            "13/13 [==============================] - 0s 7ms/step - loss: 1.2261 - accuracy: 0.5037 - val_loss: 1.3032 - val_accuracy: 0.4676\n",
            "Epoch 141/200\n",
            "13/13 [==============================] - 0s 6ms/step - loss: 1.2370 - accuracy: 0.4931 - val_loss: 1.3026 - val_accuracy: 0.4695\n",
            "Epoch 142/200\n",
            "13/13 [==============================] - 0s 6ms/step - loss: 1.2497 - accuracy: 0.4841 - val_loss: 1.3029 - val_accuracy: 0.4663\n",
            "Epoch 143/200\n",
            "13/13 [==============================] - 0s 5ms/step - loss: 1.2478 - accuracy: 0.4897 - val_loss: 1.3028 - val_accuracy: 0.4612\n",
            "Epoch 144/200\n",
            "13/13 [==============================] - 0s 5ms/step - loss: 1.2487 - accuracy: 0.4876 - val_loss: 1.3035 - val_accuracy: 0.4663\n",
            "Epoch 145/200\n",
            "13/13 [==============================] - 0s 6ms/step - loss: 1.2339 - accuracy: 0.4927 - val_loss: 1.3021 - val_accuracy: 0.4600\n",
            "Epoch 146/200\n",
            "13/13 [==============================] - 0s 5ms/step - loss: 1.2274 - accuracy: 0.5030 - val_loss: 1.3016 - val_accuracy: 0.4625\n",
            "Epoch 147/200\n",
            "13/13 [==============================] - 0s 6ms/step - loss: 1.2304 - accuracy: 0.5058 - val_loss: 1.3015 - val_accuracy: 0.4651\n",
            "Epoch 148/200\n",
            "13/13 [==============================] - 0s 5ms/step - loss: 1.2399 - accuracy: 0.4929 - val_loss: 1.3008 - val_accuracy: 0.4574\n",
            "Epoch 149/200\n",
            "13/13 [==============================] - 0s 6ms/step - loss: 1.2324 - accuracy: 0.4987 - val_loss: 1.3019 - val_accuracy: 0.4670\n",
            "Epoch 150/200\n",
            "13/13 [==============================] - 0s 6ms/step - loss: 1.2431 - accuracy: 0.4980 - val_loss: 1.3002 - val_accuracy: 0.4670\n",
            "Epoch 151/200\n",
            "13/13 [==============================] - 0s 5ms/step - loss: 1.2324 - accuracy: 0.4934 - val_loss: 1.3009 - val_accuracy: 0.4670\n",
            "Epoch 152/200\n",
            "13/13 [==============================] - 0s 6ms/step - loss: 1.2297 - accuracy: 0.5012 - val_loss: 1.3015 - val_accuracy: 0.4676\n",
            "Epoch 153/200\n",
            "13/13 [==============================] - 0s 5ms/step - loss: 1.2302 - accuracy: 0.4960 - val_loss: 1.3003 - val_accuracy: 0.4619\n",
            "Epoch 154/200\n",
            "13/13 [==============================] - 0s 6ms/step - loss: 1.2363 - accuracy: 0.4906 - val_loss: 1.3000 - val_accuracy: 0.4638\n",
            "Epoch 155/200\n",
            "13/13 [==============================] - 0s 6ms/step - loss: 1.2370 - accuracy: 0.4950 - val_loss: 1.2998 - val_accuracy: 0.4676\n",
            "Epoch 156/200\n",
            "13/13 [==============================] - 0s 6ms/step - loss: 1.2224 - accuracy: 0.5052 - val_loss: 1.2996 - val_accuracy: 0.4676\n",
            "Epoch 157/200\n",
            "13/13 [==============================] - 0s 6ms/step - loss: 1.2296 - accuracy: 0.5025 - val_loss: 1.2999 - val_accuracy: 0.4663\n",
            "Epoch 158/200\n",
            "13/13 [==============================] - 0s 6ms/step - loss: 1.2237 - accuracy: 0.5054 - val_loss: 1.2990 - val_accuracy: 0.4682\n",
            "Epoch 159/200\n",
            "13/13 [==============================] - 0s 6ms/step - loss: 1.2398 - accuracy: 0.4943 - val_loss: 1.2984 - val_accuracy: 0.4663\n",
            "Epoch 160/200\n",
            "13/13 [==============================] - 0s 6ms/step - loss: 1.2373 - accuracy: 0.4952 - val_loss: 1.2988 - val_accuracy: 0.4708\n",
            "Epoch 161/200\n",
            "13/13 [==============================] - 0s 6ms/step - loss: 1.2399 - accuracy: 0.4968 - val_loss: 1.2983 - val_accuracy: 0.4701\n",
            "Epoch 162/200\n",
            "13/13 [==============================] - 0s 6ms/step - loss: 1.2349 - accuracy: 0.4993 - val_loss: 1.2981 - val_accuracy: 0.4689\n",
            "Epoch 163/200\n",
            "13/13 [==============================] - 0s 6ms/step - loss: 1.2219 - accuracy: 0.5090 - val_loss: 1.2990 - val_accuracy: 0.4720\n",
            "Epoch 164/200\n",
            "13/13 [==============================] - 0s 6ms/step - loss: 1.2271 - accuracy: 0.5011 - val_loss: 1.2975 - val_accuracy: 0.4695\n",
            "Epoch 165/200\n",
            "13/13 [==============================] - 0s 6ms/step - loss: 1.2273 - accuracy: 0.5048 - val_loss: 1.2975 - val_accuracy: 0.4663\n",
            "Epoch 166/200\n",
            "13/13 [==============================] - 0s 5ms/step - loss: 1.2246 - accuracy: 0.5014 - val_loss: 1.2983 - val_accuracy: 0.4670\n",
            "Epoch 167/200\n",
            "13/13 [==============================] - 0s 5ms/step - loss: 1.2173 - accuracy: 0.5000 - val_loss: 1.2982 - val_accuracy: 0.4689\n",
            "Epoch 168/200\n",
            "13/13 [==============================] - 0s 5ms/step - loss: 1.2289 - accuracy: 0.5032 - val_loss: 1.2978 - val_accuracy: 0.4701\n",
            "Epoch 169/200\n",
            "13/13 [==============================] - 0s 6ms/step - loss: 1.2319 - accuracy: 0.5056 - val_loss: 1.2982 - val_accuracy: 0.4727\n",
            "Epoch 170/200\n",
            "13/13 [==============================] - 0s 5ms/step - loss: 1.2243 - accuracy: 0.5039 - val_loss: 1.2977 - val_accuracy: 0.4695\n",
            "Epoch 171/200\n",
            "13/13 [==============================] - 0s 6ms/step - loss: 1.2187 - accuracy: 0.5092 - val_loss: 1.2968 - val_accuracy: 0.4676\n",
            "Epoch 172/200\n",
            "13/13 [==============================] - 0s 5ms/step - loss: 1.2200 - accuracy: 0.5042 - val_loss: 1.2970 - val_accuracy: 0.4695\n",
            "Epoch 173/200\n",
            "13/13 [==============================] - 0s 6ms/step - loss: 1.2222 - accuracy: 0.5022 - val_loss: 1.2966 - val_accuracy: 0.4701\n",
            "Epoch 174/200\n",
            "13/13 [==============================] - 0s 6ms/step - loss: 1.2188 - accuracy: 0.5037 - val_loss: 1.2969 - val_accuracy: 0.4701\n",
            "Epoch 175/200\n",
            "13/13 [==============================] - 0s 6ms/step - loss: 1.2264 - accuracy: 0.4987 - val_loss: 1.2958 - val_accuracy: 0.4657\n",
            "Epoch 176/200\n",
            "13/13 [==============================] - 0s 6ms/step - loss: 1.2296 - accuracy: 0.4952 - val_loss: 1.2960 - val_accuracy: 0.4759\n",
            "Epoch 177/200\n",
            "13/13 [==============================] - 0s 5ms/step - loss: 1.2256 - accuracy: 0.5070 - val_loss: 1.2957 - val_accuracy: 0.4727\n",
            "Epoch 178/200\n",
            "13/13 [==============================] - 0s 6ms/step - loss: 1.2160 - accuracy: 0.5078 - val_loss: 1.2956 - val_accuracy: 0.4695\n",
            "Epoch 179/200\n",
            "13/13 [==============================] - 0s 5ms/step - loss: 1.2266 - accuracy: 0.5016 - val_loss: 1.2958 - val_accuracy: 0.4714\n",
            "Epoch 180/200\n",
            "13/13 [==============================] - 0s 6ms/step - loss: 1.2305 - accuracy: 0.4956 - val_loss: 1.2949 - val_accuracy: 0.4682\n",
            "Epoch 181/200\n",
            "13/13 [==============================] - 0s 6ms/step - loss: 1.2154 - accuracy: 0.5104 - val_loss: 1.2951 - val_accuracy: 0.4676\n",
            "Epoch 182/200\n",
            "13/13 [==============================] - 0s 5ms/step - loss: 1.2150 - accuracy: 0.5130 - val_loss: 1.2948 - val_accuracy: 0.4682\n",
            "Epoch 183/200\n",
            "13/13 [==============================] - 0s 6ms/step - loss: 1.2168 - accuracy: 0.5037 - val_loss: 1.2946 - val_accuracy: 0.4670\n",
            "Epoch 184/200\n",
            "13/13 [==============================] - 0s 6ms/step - loss: 1.1988 - accuracy: 0.5161 - val_loss: 1.2948 - val_accuracy: 0.4708\n",
            "Epoch 185/200\n",
            "13/13 [==============================] - 0s 6ms/step - loss: 1.2145 - accuracy: 0.5104 - val_loss: 1.2939 - val_accuracy: 0.4676\n",
            "Epoch 186/200\n",
            "13/13 [==============================] - 0s 6ms/step - loss: 1.2133 - accuracy: 0.5083 - val_loss: 1.2934 - val_accuracy: 0.4676\n",
            "Epoch 187/200\n",
            "13/13 [==============================] - 0s 6ms/step - loss: 1.2145 - accuracy: 0.5018 - val_loss: 1.2932 - val_accuracy: 0.4682\n",
            "Epoch 188/200\n",
            "13/13 [==============================] - 0s 6ms/step - loss: 1.2050 - accuracy: 0.5210 - val_loss: 1.2934 - val_accuracy: 0.4676\n",
            "Epoch 189/200\n",
            "13/13 [==============================] - 0s 6ms/step - loss: 1.2263 - accuracy: 0.4981 - val_loss: 1.2934 - val_accuracy: 0.4701\n",
            "Epoch 190/200\n",
            "13/13 [==============================] - 0s 6ms/step - loss: 1.2183 - accuracy: 0.5041 - val_loss: 1.2937 - val_accuracy: 0.4676\n",
            "Epoch 191/200\n",
            "13/13 [==============================] - 0s 6ms/step - loss: 1.2108 - accuracy: 0.5087 - val_loss: 1.2930 - val_accuracy: 0.4663\n",
            "Epoch 192/200\n",
            "13/13 [==============================] - 0s 6ms/step - loss: 1.2142 - accuracy: 0.5077 - val_loss: 1.2927 - val_accuracy: 0.4689\n",
            "Epoch 193/200\n",
            "13/13 [==============================] - 0s 6ms/step - loss: 1.2106 - accuracy: 0.5080 - val_loss: 1.2928 - val_accuracy: 0.4657\n",
            "Epoch 194/200\n",
            "13/13 [==============================] - 0s 6ms/step - loss: 1.2126 - accuracy: 0.5060 - val_loss: 1.2922 - val_accuracy: 0.4657\n",
            "Epoch 195/200\n",
            "13/13 [==============================] - 0s 6ms/step - loss: 1.2116 - accuracy: 0.5078 - val_loss: 1.2921 - val_accuracy: 0.4663\n",
            "Epoch 196/200\n",
            "13/13 [==============================] - 0s 6ms/step - loss: 1.2008 - accuracy: 0.5119 - val_loss: 1.2928 - val_accuracy: 0.4676\n",
            "Epoch 197/200\n",
            "13/13 [==============================] - 0s 6ms/step - loss: 1.2171 - accuracy: 0.5137 - val_loss: 1.2919 - val_accuracy: 0.4695\n",
            "Epoch 198/200\n",
            "13/13 [==============================] - 0s 6ms/step - loss: 1.2117 - accuracy: 0.5087 - val_loss: 1.2920 - val_accuracy: 0.4682\n",
            "Epoch 199/200\n",
            "13/13 [==============================] - 0s 7ms/step - loss: 1.2193 - accuracy: 0.5032 - val_loss: 1.2918 - val_accuracy: 0.4695\n",
            "Epoch 200/200\n",
            "13/13 [==============================] - 0s 6ms/step - loss: 1.2103 - accuracy: 0.5059 - val_loss: 1.2913 - val_accuracy: 0.4695\n"
          ],
          "name": "stdout"
        }
      ]
    },
    {
      "cell_type": "code",
      "metadata": {
        "id": "ioqdjydpG19x"
      },
      "source": [
        "pred = model_1.predict(test_X)"
      ],
      "execution_count": 141,
      "outputs": []
    },
    {
      "cell_type": "code",
      "metadata": {
        "colab": {
          "base_uri": "https://localhost:8080/"
        },
        "id": "bj73Fv29HAap",
        "outputId": "94f328a0-ae41-43bd-c5ec-2e174604bf69"
      },
      "source": [
        "np.argmax(pred[0])"
      ],
      "execution_count": 142,
      "outputs": [
        {
          "output_type": "execute_result",
          "data": {
            "text/plain": [
              "2"
            ]
          },
          "metadata": {
            "tags": []
          },
          "execution_count": 142
        }
      ]
    },
    {
      "cell_type": "code",
      "metadata": {
        "colab": {
          "base_uri": "https://localhost:8080/"
        },
        "id": "Kbx7_EGJHQWw",
        "outputId": "1a90dd53-398a-474d-d0c3-8fc471a62a45"
      },
      "source": [
        "test_y[0]"
      ],
      "execution_count": 143,
      "outputs": [
        {
          "output_type": "execute_result",
          "data": {
            "text/plain": [
              "array([0., 0., 1., 0., 0.], dtype=float32)"
            ]
          },
          "metadata": {
            "tags": []
          },
          "execution_count": 143
        }
      ]
    },
    {
      "cell_type": "markdown",
      "metadata": {
        "id": "-94kkuY4HT4X"
      },
      "source": [
        "As we can see on this trial we obtain the right prediction for the first element. But it is not significant to explain how the model performs."
      ]
    },
    {
      "cell_type": "markdown",
      "metadata": {
        "id": "tFblPImDc0gZ"
      },
      "source": [
        "#### Visualization"
      ]
    },
    {
      "cell_type": "code",
      "metadata": {
        "id": "-K2y03akNSGr"
      },
      "source": [
        "accuracy = history.history[\"accuracy\"]"
      ],
      "execution_count": 144,
      "outputs": []
    },
    {
      "cell_type": "code",
      "metadata": {
        "id": "I9SMdSdLNSOf"
      },
      "source": [
        "val_accuracy = history.history[\"val_accuracy\"]"
      ],
      "execution_count": 145,
      "outputs": []
    },
    {
      "cell_type": "code",
      "metadata": {
        "colab": {
          "base_uri": "https://localhost:8080/",
          "height": 442
        },
        "id": "Ec6WeJUONSad",
        "outputId": "79e184a0-fd3e-44d1-a6cd-877b2891d6d4"
      },
      "source": [
        "plt.figure(figsize=(7,7))\r\n",
        "plt.plot(accuracy, label=\"accuracy\")\r\n",
        "plt.plot(val_accuracy, label=\"validation accuracy\")\r\n",
        "plt.legend()\r\n",
        "plt.xticks(np.arange(0, 200, step=15))\r\n",
        "plt.xlabel('epochs')\r\n",
        "plt.ylabel(\"%\")\r\n",
        "plt.show()"
      ],
      "execution_count": 146,
      "outputs": [
        {
          "output_type": "display_data",
          "data": {
            "image/png": "[encoded data removed]",
            "text/plain": [
              "<Figure size 504x504 with 1 Axes>"
            ]
          },
          "metadata": {
            "tags": [],
            "needs_background": "light"
          }
        }
      ]
    },
    {
      "cell_type": "markdown",
      "metadata": {
        "id": "wKk0kudcN6Ob"
      },
      "source": [
        "overfitting from step 30"
      ]
    },
    {
      "cell_type": "code",
      "metadata": {
        "id": "6CAZ0YR7NTQ5"
      },
      "source": [
        "loss = history.history[\"loss\"]"
      ],
      "execution_count": 147,
      "outputs": []
    },
    {
      "cell_type": "code",
      "metadata": {
        "id": "s21pSwqaNTaW"
      },
      "source": [
        "val_loss = history.history[\"val_loss\"]"
      ],
      "execution_count": 148,
      "outputs": []
    },
    {
      "cell_type": "code",
      "metadata": {
        "colab": {
          "base_uri": "https://localhost:8080/",
          "height": 442
        },
        "id": "f0QSNlVvNTmQ",
        "outputId": "c146e64d-2f5c-4f7c-d38b-3ab4e9b4366a"
      },
      "source": [
        "plt.figure(figsize=(7,7))\r\n",
        "plt.plot(loss, label=\"loss\")\r\n",
        "plt.plot(val_loss, label=\"validation loss\")\r\n",
        "plt.legend()\r\n",
        "plt.xticks(np.arange(0, 200, step=15))\r\n",
        "plt.xlabel('epochs')\r\n",
        "plt.show()"
      ],
      "execution_count": 149,
      "outputs": [
        {
          "output_type": "display_data",
          "data": {
            "image/png": "[encoded data removed]",
            "text/plain": [
              "<Figure size 504x504 with 1 Axes>"
            ]
          },
          "metadata": {
            "tags": [],
            "needs_background": "light"
          }
        }
      ]
    },
    {
      "cell_type": "code",
      "metadata": {
        "colab": {
          "base_uri": "https://localhost:8080/"
        },
        "id": "zA-2OdayHqC3",
        "outputId": "27d1769b-dbd9-4744-caf4-71c766e37ae1"
      },
      "source": [
        "model_1.evaluate(test_X,test_y)"
      ],
      "execution_count": 150,
      "outputs": [
        {
          "output_type": "stream",
          "text": [
            "63/63 [==============================] - 0s 1000us/step - loss: 1.2692 - accuracy: 0.4686\n"
          ],
          "name": "stdout"
        },
        {
          "output_type": "execute_result",
          "data": {
            "text/plain": [
              "[1.2691893577575684, 0.46856287121772766]"
            ]
          },
          "metadata": {
            "tags": []
          },
          "execution_count": 150
        }
      ]
    },
    {
      "cell_type": "markdown",
      "metadata": {
        "id": "s-kCpmbfHxTA"
      },
      "source": [
        "With an accuracy below 50%, we will try to find a better model with more neurons"
      ]
    },
    {
      "cell_type": "markdown",
      "metadata": {
        "id": "aCKGMa1ZbXTA"
      },
      "source": [
        "### Second network"
      ]
    },
    {
      "cell_type": "code",
      "metadata": {
        "id": "dCWkpHAvIEYD"
      },
      "source": [
        "model_2 = keras.Sequential()\r\n",
        "model_2.add(keras.layers.Dense(64, input_dim = 32, activation = \"relu\"))\r\n",
        "model_2.add(keras.layers.Dense(5, activation= \"softmax\"))"
      ],
      "execution_count": 151,
      "outputs": []
    },
    {
      "cell_type": "markdown",
      "metadata": {
        "id": "iYbbbTQ0IncK"
      },
      "source": [
        "Still we keep 200 epochs, the optimizer will be tested and modified to the best model with adam"
      ]
    },
    {
      "cell_type": "code",
      "metadata": {
        "id": "uvFKCepYIMW9"
      },
      "source": [
        "model_2.compile(optimizer='adam', loss = \"categorical_crossentropy\", metrics = [\"accuracy\"])"
      ],
      "execution_count": 152,
      "outputs": []
    },
    {
      "cell_type": "code",
      "metadata": {
        "colab": {
          "base_uri": "https://localhost:8080/"
        },
        "id": "J69RtiafIXA6",
        "outputId": "0d9a1cff-3b7c-421f-8769-08c55aabd3ff"
      },
      "source": [
        "history_2 = model_2.fit(train_X, train_y, validation_split=0.2, batch_size=512, epochs=200)"
      ],
      "execution_count": 153,
      "outputs": [
        {
          "output_type": "stream",
          "text": [
            "Epoch 1/200\n",
            "13/13 [==============================] - 1s 18ms/step - loss: 1.5951 - accuracy: 0.2390 - val_loss: 1.5601 - val_accuracy: 0.3088\n",
            "Epoch 2/200\n",
            "13/13 [==============================] - 0s 6ms/step - loss: 1.5432 - accuracy: 0.3232 - val_loss: 1.5232 - val_accuracy: 0.3621\n",
            "Epoch 3/200\n",
            "13/13 [==============================] - 0s 5ms/step - loss: 1.5099 - accuracy: 0.3661 - val_loss: 1.4989 - val_accuracy: 0.3825\n",
            "Epoch 4/200\n",
            "13/13 [==============================] - 0s 6ms/step - loss: 1.4828 - accuracy: 0.3815 - val_loss: 1.4820 - val_accuracy: 0.3875\n",
            "Epoch 5/200\n",
            "13/13 [==============================] - 0s 5ms/step - loss: 1.4686 - accuracy: 0.3884 - val_loss: 1.4684 - val_accuracy: 0.3914\n",
            "Epoch 6/200\n",
            "13/13 [==============================] - 0s 6ms/step - loss: 1.4525 - accuracy: 0.3945 - val_loss: 1.4571 - val_accuracy: 0.4009\n",
            "Epoch 7/200\n",
            "13/13 [==============================] - 0s 7ms/step - loss: 1.4464 - accuracy: 0.3986 - val_loss: 1.4466 - val_accuracy: 0.3939\n",
            "Epoch 8/200\n",
            "13/13 [==============================] - 0s 6ms/step - loss: 1.4326 - accuracy: 0.4002 - val_loss: 1.4370 - val_accuracy: 0.3939\n",
            "Epoch 9/200\n",
            "13/13 [==============================] - 0s 6ms/step - loss: 1.4262 - accuracy: 0.3967 - val_loss: 1.4275 - val_accuracy: 0.3958\n",
            "Epoch 10/200\n",
            "13/13 [==============================] - 0s 6ms/step - loss: 1.4164 - accuracy: 0.4066 - val_loss: 1.4210 - val_accuracy: 0.3907\n",
            "Epoch 11/200\n",
            "13/13 [==============================] - 0s 6ms/step - loss: 1.4056 - accuracy: 0.4112 - val_loss: 1.4151 - val_accuracy: 0.3996\n",
            "Epoch 12/200\n",
            "13/13 [==============================] - 0s 6ms/step - loss: 1.4000 - accuracy: 0.4149 - val_loss: 1.4089 - val_accuracy: 0.4022\n",
            "Epoch 13/200\n",
            "13/13 [==============================] - 0s 6ms/step - loss: 1.3940 - accuracy: 0.4132 - val_loss: 1.4048 - val_accuracy: 0.4041\n",
            "Epoch 14/200\n",
            "13/13 [==============================] - 0s 6ms/step - loss: 1.3796 - accuracy: 0.4221 - val_loss: 1.3999 - val_accuracy: 0.4003\n",
            "Epoch 15/200\n",
            "13/13 [==============================] - 0s 6ms/step - loss: 1.3902 - accuracy: 0.4185 - val_loss: 1.3959 - val_accuracy: 0.4041\n",
            "Epoch 16/200\n",
            "13/13 [==============================] - 0s 6ms/step - loss: 1.3811 - accuracy: 0.4221 - val_loss: 1.3919 - val_accuracy: 0.4079\n",
            "Epoch 17/200\n",
            "13/13 [==============================] - 0s 6ms/step - loss: 1.3687 - accuracy: 0.4299 - val_loss: 1.3879 - val_accuracy: 0.4098\n",
            "Epoch 18/200\n",
            "13/13 [==============================] - 0s 6ms/step - loss: 1.3640 - accuracy: 0.4403 - val_loss: 1.3846 - val_accuracy: 0.4149\n",
            "Epoch 19/200\n",
            "13/13 [==============================] - 0s 5ms/step - loss: 1.3660 - accuracy: 0.4377 - val_loss: 1.3805 - val_accuracy: 0.4187\n",
            "Epoch 20/200\n",
            "13/13 [==============================] - 0s 6ms/step - loss: 1.3575 - accuracy: 0.4330 - val_loss: 1.3776 - val_accuracy: 0.4250\n",
            "Epoch 21/200\n",
            "13/13 [==============================] - 0s 6ms/step - loss: 1.3621 - accuracy: 0.4382 - val_loss: 1.3740 - val_accuracy: 0.4288\n",
            "Epoch 22/200\n",
            "13/13 [==============================] - 0s 6ms/step - loss: 1.3482 - accuracy: 0.4480 - val_loss: 1.3714 - val_accuracy: 0.4231\n",
            "Epoch 23/200\n",
            "13/13 [==============================] - 0s 6ms/step - loss: 1.3426 - accuracy: 0.4439 - val_loss: 1.3679 - val_accuracy: 0.4282\n",
            "Epoch 24/200\n",
            "13/13 [==============================] - 0s 5ms/step - loss: 1.3419 - accuracy: 0.4418 - val_loss: 1.3648 - val_accuracy: 0.4339\n",
            "Epoch 25/200\n",
            "13/13 [==============================] - 0s 6ms/step - loss: 1.3354 - accuracy: 0.4494 - val_loss: 1.3614 - val_accuracy: 0.4307\n",
            "Epoch 26/200\n",
            "13/13 [==============================] - 0s 6ms/step - loss: 1.3334 - accuracy: 0.4493 - val_loss: 1.3593 - val_accuracy: 0.4365\n",
            "Epoch 27/200\n",
            "13/13 [==============================] - 0s 5ms/step - loss: 1.3270 - accuracy: 0.4564 - val_loss: 1.3550 - val_accuracy: 0.4301\n",
            "Epoch 28/200\n",
            "13/13 [==============================] - 0s 5ms/step - loss: 1.3161 - accuracy: 0.4645 - val_loss: 1.3536 - val_accuracy: 0.4365\n",
            "Epoch 29/200\n",
            "13/13 [==============================] - 0s 6ms/step - loss: 1.3211 - accuracy: 0.4587 - val_loss: 1.3496 - val_accuracy: 0.4320\n",
            "Epoch 30/200\n",
            "13/13 [==============================] - 0s 6ms/step - loss: 1.3104 - accuracy: 0.4640 - val_loss: 1.3472 - val_accuracy: 0.4390\n",
            "Epoch 31/200\n",
            "13/13 [==============================] - 0s 6ms/step - loss: 1.3291 - accuracy: 0.4494 - val_loss: 1.3449 - val_accuracy: 0.4422\n",
            "Epoch 32/200\n",
            "13/13 [==============================] - 0s 6ms/step - loss: 1.3133 - accuracy: 0.4581 - val_loss: 1.3420 - val_accuracy: 0.4428\n",
            "Epoch 33/200\n",
            "13/13 [==============================] - 0s 6ms/step - loss: 1.3133 - accuracy: 0.4591 - val_loss: 1.3394 - val_accuracy: 0.4447\n",
            "Epoch 34/200\n",
            "13/13 [==============================] - 0s 5ms/step - loss: 1.3114 - accuracy: 0.4638 - val_loss: 1.3378 - val_accuracy: 0.4504\n",
            "Epoch 35/200\n",
            "13/13 [==============================] - 0s 6ms/step - loss: 1.3007 - accuracy: 0.4727 - val_loss: 1.3351 - val_accuracy: 0.4447\n",
            "Epoch 36/200\n",
            "13/13 [==============================] - 0s 6ms/step - loss: 1.3080 - accuracy: 0.4593 - val_loss: 1.3331 - val_accuracy: 0.4524\n",
            "Epoch 37/200\n",
            "13/13 [==============================] - 0s 5ms/step - loss: 1.2950 - accuracy: 0.4732 - val_loss: 1.3312 - val_accuracy: 0.4574\n",
            "Epoch 38/200\n",
            "13/13 [==============================] - 0s 5ms/step - loss: 1.2981 - accuracy: 0.4681 - val_loss: 1.3292 - val_accuracy: 0.4536\n",
            "Epoch 39/200\n",
            "13/13 [==============================] - 0s 5ms/step - loss: 1.3012 - accuracy: 0.4709 - val_loss: 1.3274 - val_accuracy: 0.4555\n",
            "Epoch 40/200\n",
            "13/13 [==============================] - 0s 6ms/step - loss: 1.2790 - accuracy: 0.4778 - val_loss: 1.3251 - val_accuracy: 0.4600\n",
            "Epoch 41/200\n",
            "13/13 [==============================] - 0s 5ms/step - loss: 1.2821 - accuracy: 0.4825 - val_loss: 1.3234 - val_accuracy: 0.4562\n",
            "Epoch 42/200\n",
            "13/13 [==============================] - 0s 6ms/step - loss: 1.2819 - accuracy: 0.4784 - val_loss: 1.3208 - val_accuracy: 0.4587\n",
            "Epoch 43/200\n",
            "13/13 [==============================] - 0s 6ms/step - loss: 1.2720 - accuracy: 0.4865 - val_loss: 1.3194 - val_accuracy: 0.4593\n",
            "Epoch 44/200\n",
            "13/13 [==============================] - 0s 5ms/step - loss: 1.2860 - accuracy: 0.4745 - val_loss: 1.3187 - val_accuracy: 0.4587\n",
            "Epoch 45/200\n",
            "13/13 [==============================] - 0s 5ms/step - loss: 1.2730 - accuracy: 0.4789 - val_loss: 1.3169 - val_accuracy: 0.4619\n",
            "Epoch 46/200\n",
            "13/13 [==============================] - 0s 6ms/step - loss: 1.2809 - accuracy: 0.4803 - val_loss: 1.3145 - val_accuracy: 0.4587\n",
            "Epoch 47/200\n",
            "13/13 [==============================] - 0s 6ms/step - loss: 1.2690 - accuracy: 0.4839 - val_loss: 1.3133 - val_accuracy: 0.4644\n",
            "Epoch 48/200\n",
            "13/13 [==============================] - 0s 5ms/step - loss: 1.2702 - accuracy: 0.4824 - val_loss: 1.3117 - val_accuracy: 0.4606\n",
            "Epoch 49/200\n",
            "13/13 [==============================] - 0s 6ms/step - loss: 1.2681 - accuracy: 0.4879 - val_loss: 1.3112 - val_accuracy: 0.4568\n",
            "Epoch 50/200\n",
            "13/13 [==============================] - 0s 6ms/step - loss: 1.2787 - accuracy: 0.4742 - val_loss: 1.3100 - val_accuracy: 0.4568\n",
            "Epoch 51/200\n",
            "13/13 [==============================] - 0s 6ms/step - loss: 1.2691 - accuracy: 0.4806 - val_loss: 1.3094 - val_accuracy: 0.4587\n",
            "Epoch 52/200\n",
            "13/13 [==============================] - 0s 5ms/step - loss: 1.2817 - accuracy: 0.4737 - val_loss: 1.3059 - val_accuracy: 0.4543\n",
            "Epoch 53/200\n",
            "13/13 [==============================] - 0s 5ms/step - loss: 1.2635 - accuracy: 0.4922 - val_loss: 1.3066 - val_accuracy: 0.4587\n",
            "Epoch 54/200\n",
            "13/13 [==============================] - 0s 5ms/step - loss: 1.2514 - accuracy: 0.4876 - val_loss: 1.3046 - val_accuracy: 0.4574\n",
            "Epoch 55/200\n",
            "13/13 [==============================] - 0s 5ms/step - loss: 1.2519 - accuracy: 0.4957 - val_loss: 1.3028 - val_accuracy: 0.4612\n",
            "Epoch 56/200\n",
            "13/13 [==============================] - 0s 5ms/step - loss: 1.2492 - accuracy: 0.4867 - val_loss: 1.3017 - val_accuracy: 0.4568\n",
            "Epoch 57/200\n",
            "13/13 [==============================] - 0s 5ms/step - loss: 1.2602 - accuracy: 0.4785 - val_loss: 1.3004 - val_accuracy: 0.4644\n",
            "Epoch 58/200\n",
            "13/13 [==============================] - 0s 5ms/step - loss: 1.2547 - accuracy: 0.4852 - val_loss: 1.3007 - val_accuracy: 0.4606\n",
            "Epoch 59/200\n",
            "13/13 [==============================] - 0s 6ms/step - loss: 1.2403 - accuracy: 0.4991 - val_loss: 1.2984 - val_accuracy: 0.4587\n",
            "Epoch 60/200\n",
            "13/13 [==============================] - 0s 6ms/step - loss: 1.2341 - accuracy: 0.5035 - val_loss: 1.2987 - val_accuracy: 0.4619\n",
            "Epoch 61/200\n",
            "13/13 [==============================] - 0s 5ms/step - loss: 1.2506 - accuracy: 0.4912 - val_loss: 1.2973 - val_accuracy: 0.4612\n",
            "Epoch 62/200\n",
            "13/13 [==============================] - 0s 6ms/step - loss: 1.2453 - accuracy: 0.4887 - val_loss: 1.2971 - val_accuracy: 0.4612\n",
            "Epoch 63/200\n",
            "13/13 [==============================] - 0s 6ms/step - loss: 1.2488 - accuracy: 0.4899 - val_loss: 1.2945 - val_accuracy: 0.4663\n",
            "Epoch 64/200\n",
            "13/13 [==============================] - 0s 6ms/step - loss: 1.2381 - accuracy: 0.4976 - val_loss: 1.2946 - val_accuracy: 0.4644\n",
            "Epoch 65/200\n",
            "13/13 [==============================] - 0s 5ms/step - loss: 1.2377 - accuracy: 0.4895 - val_loss: 1.2955 - val_accuracy: 0.4657\n",
            "Epoch 66/200\n",
            "13/13 [==============================] - 0s 5ms/step - loss: 1.2382 - accuracy: 0.4978 - val_loss: 1.2943 - val_accuracy: 0.4676\n",
            "Epoch 67/200\n",
            "13/13 [==============================] - 0s 6ms/step - loss: 1.2499 - accuracy: 0.4985 - val_loss: 1.2928 - val_accuracy: 0.4676\n",
            "Epoch 68/200\n",
            "13/13 [==============================] - 0s 6ms/step - loss: 1.2378 - accuracy: 0.4980 - val_loss: 1.2932 - val_accuracy: 0.4657\n",
            "Epoch 69/200\n",
            "13/13 [==============================] - 0s 5ms/step - loss: 1.2333 - accuracy: 0.5016 - val_loss: 1.2913 - val_accuracy: 0.4689\n",
            "Epoch 70/200\n",
            "13/13 [==============================] - 0s 6ms/step - loss: 1.2390 - accuracy: 0.4948 - val_loss: 1.2909 - val_accuracy: 0.4682\n",
            "Epoch 71/200\n",
            "13/13 [==============================] - 0s 6ms/step - loss: 1.2360 - accuracy: 0.4968 - val_loss: 1.2896 - val_accuracy: 0.4701\n",
            "Epoch 72/200\n",
            "13/13 [==============================] - 0s 5ms/step - loss: 1.2443 - accuracy: 0.4938 - val_loss: 1.2899 - val_accuracy: 0.4689\n",
            "Epoch 73/200\n",
            "13/13 [==============================] - 0s 6ms/step - loss: 1.2368 - accuracy: 0.5000 - val_loss: 1.2894 - val_accuracy: 0.4689\n",
            "Epoch 74/200\n",
            "13/13 [==============================] - 0s 6ms/step - loss: 1.2139 - accuracy: 0.5125 - val_loss: 1.2888 - val_accuracy: 0.4727\n",
            "Epoch 75/200\n",
            "13/13 [==============================] - 0s 6ms/step - loss: 1.2307 - accuracy: 0.4895 - val_loss: 1.2865 - val_accuracy: 0.4651\n",
            "Epoch 76/200\n",
            "13/13 [==============================] - 0s 6ms/step - loss: 1.2202 - accuracy: 0.4948 - val_loss: 1.2885 - val_accuracy: 0.4682\n",
            "Epoch 77/200\n",
            "13/13 [==============================] - 0s 6ms/step - loss: 1.2280 - accuracy: 0.4997 - val_loss: 1.2873 - val_accuracy: 0.4695\n",
            "Epoch 78/200\n",
            "13/13 [==============================] - 0s 6ms/step - loss: 1.2340 - accuracy: 0.4978 - val_loss: 1.2858 - val_accuracy: 0.4682\n",
            "Epoch 79/200\n",
            "13/13 [==============================] - 0s 5ms/step - loss: 1.2322 - accuracy: 0.4908 - val_loss: 1.2853 - val_accuracy: 0.4708\n",
            "Epoch 80/200\n",
            "13/13 [==============================] - 0s 6ms/step - loss: 1.2191 - accuracy: 0.5042 - val_loss: 1.2865 - val_accuracy: 0.4657\n",
            "Epoch 81/200\n",
            "13/13 [==============================] - 0s 5ms/step - loss: 1.2270 - accuracy: 0.4986 - val_loss: 1.2842 - val_accuracy: 0.4714\n",
            "Epoch 82/200\n",
            "13/13 [==============================] - 0s 6ms/step - loss: 1.2082 - accuracy: 0.5052 - val_loss: 1.2840 - val_accuracy: 0.4720\n",
            "Epoch 83/200\n",
            "13/13 [==============================] - 0s 6ms/step - loss: 1.2220 - accuracy: 0.5043 - val_loss: 1.2838 - val_accuracy: 0.4720\n",
            "Epoch 84/200\n",
            "13/13 [==============================] - 0s 6ms/step - loss: 1.2163 - accuracy: 0.5069 - val_loss: 1.2818 - val_accuracy: 0.4657\n",
            "Epoch 85/200\n",
            "13/13 [==============================] - 0s 5ms/step - loss: 1.2172 - accuracy: 0.5032 - val_loss: 1.2834 - val_accuracy: 0.4670\n",
            "Epoch 86/200\n",
            "13/13 [==============================] - 0s 6ms/step - loss: 1.2160 - accuracy: 0.5063 - val_loss: 1.2822 - val_accuracy: 0.4701\n",
            "Epoch 87/200\n",
            "13/13 [==============================] - 0s 5ms/step - loss: 1.2289 - accuracy: 0.4974 - val_loss: 1.2812 - val_accuracy: 0.4714\n",
            "Epoch 88/200\n",
            "13/13 [==============================] - 0s 5ms/step - loss: 1.2110 - accuracy: 0.5018 - val_loss: 1.2817 - val_accuracy: 0.4689\n",
            "Epoch 89/200\n",
            "13/13 [==============================] - 0s 5ms/step - loss: 1.2159 - accuracy: 0.5070 - val_loss: 1.2813 - val_accuracy: 0.4746\n",
            "Epoch 90/200\n",
            "13/13 [==============================] - 0s 5ms/step - loss: 1.2147 - accuracy: 0.5044 - val_loss: 1.2803 - val_accuracy: 0.4651\n",
            "Epoch 91/200\n",
            "13/13 [==============================] - 0s 6ms/step - loss: 1.2209 - accuracy: 0.5029 - val_loss: 1.2794 - val_accuracy: 0.4727\n",
            "Epoch 92/200\n",
            "13/13 [==============================] - 0s 6ms/step - loss: 1.2013 - accuracy: 0.5102 - val_loss: 1.2794 - val_accuracy: 0.4720\n",
            "Epoch 93/200\n",
            "13/13 [==============================] - 0s 6ms/step - loss: 1.2063 - accuracy: 0.5140 - val_loss: 1.2784 - val_accuracy: 0.4746\n",
            "Epoch 94/200\n",
            "13/13 [==============================] - 0s 6ms/step - loss: 1.2098 - accuracy: 0.5155 - val_loss: 1.2786 - val_accuracy: 0.4720\n",
            "Epoch 95/200\n",
            "13/13 [==============================] - 0s 5ms/step - loss: 1.2061 - accuracy: 0.5074 - val_loss: 1.2784 - val_accuracy: 0.4714\n",
            "Epoch 96/200\n",
            "13/13 [==============================] - 0s 6ms/step - loss: 1.2228 - accuracy: 0.5034 - val_loss: 1.2774 - val_accuracy: 0.4720\n",
            "Epoch 97/200\n",
            "13/13 [==============================] - 0s 5ms/step - loss: 1.1980 - accuracy: 0.5151 - val_loss: 1.2781 - val_accuracy: 0.4695\n",
            "Epoch 98/200\n",
            "13/13 [==============================] - 0s 5ms/step - loss: 1.2096 - accuracy: 0.5106 - val_loss: 1.2761 - val_accuracy: 0.4701\n",
            "Epoch 99/200\n",
            "13/13 [==============================] - 0s 5ms/step - loss: 1.1992 - accuracy: 0.5128 - val_loss: 1.2760 - val_accuracy: 0.4733\n",
            "Epoch 100/200\n",
            "13/13 [==============================] - 0s 6ms/step - loss: 1.2011 - accuracy: 0.5110 - val_loss: 1.2763 - val_accuracy: 0.4701\n",
            "Epoch 101/200\n",
            "13/13 [==============================] - 0s 6ms/step - loss: 1.1985 - accuracy: 0.5159 - val_loss: 1.2758 - val_accuracy: 0.4740\n",
            "Epoch 102/200\n",
            "13/13 [==============================] - 0s 5ms/step - loss: 1.2056 - accuracy: 0.5078 - val_loss: 1.2746 - val_accuracy: 0.4765\n",
            "Epoch 103/200\n",
            "13/13 [==============================] - 0s 5ms/step - loss: 1.1897 - accuracy: 0.5182 - val_loss: 1.2743 - val_accuracy: 0.4714\n",
            "Epoch 104/200\n",
            "13/13 [==============================] - 0s 6ms/step - loss: 1.1991 - accuracy: 0.5139 - val_loss: 1.2742 - val_accuracy: 0.4746\n",
            "Epoch 105/200\n",
            "13/13 [==============================] - 0s 5ms/step - loss: 1.2071 - accuracy: 0.5100 - val_loss: 1.2735 - val_accuracy: 0.4740\n",
            "Epoch 106/200\n",
            "13/13 [==============================] - 0s 6ms/step - loss: 1.2047 - accuracy: 0.5080 - val_loss: 1.2753 - val_accuracy: 0.4740\n",
            "Epoch 107/200\n",
            "13/13 [==============================] - 0s 6ms/step - loss: 1.1929 - accuracy: 0.5151 - val_loss: 1.2743 - val_accuracy: 0.4740\n",
            "Epoch 108/200\n",
            "13/13 [==============================] - 0s 6ms/step - loss: 1.1987 - accuracy: 0.5160 - val_loss: 1.2731 - val_accuracy: 0.4733\n",
            "Epoch 109/200\n",
            "13/13 [==============================] - 0s 6ms/step - loss: 1.1852 - accuracy: 0.5213 - val_loss: 1.2734 - val_accuracy: 0.4727\n",
            "Epoch 110/200\n",
            "13/13 [==============================] - 0s 6ms/step - loss: 1.1920 - accuracy: 0.5098 - val_loss: 1.2728 - val_accuracy: 0.4771\n",
            "Epoch 111/200\n",
            "13/13 [==============================] - 0s 6ms/step - loss: 1.1953 - accuracy: 0.5140 - val_loss: 1.2729 - val_accuracy: 0.4771\n",
            "Epoch 112/200\n",
            "13/13 [==============================] - 0s 5ms/step - loss: 1.1856 - accuracy: 0.5167 - val_loss: 1.2715 - val_accuracy: 0.4771\n",
            "Epoch 113/200\n",
            "13/13 [==============================] - 0s 6ms/step - loss: 1.1856 - accuracy: 0.5164 - val_loss: 1.2718 - val_accuracy: 0.4676\n",
            "Epoch 114/200\n",
            "13/13 [==============================] - 0s 5ms/step - loss: 1.1891 - accuracy: 0.5205 - val_loss: 1.2711 - val_accuracy: 0.4746\n",
            "Epoch 115/200\n",
            "13/13 [==============================] - 0s 5ms/step - loss: 1.1862 - accuracy: 0.5203 - val_loss: 1.2715 - val_accuracy: 0.4727\n",
            "Epoch 116/200\n",
            "13/13 [==============================] - 0s 6ms/step - loss: 1.1836 - accuracy: 0.5194 - val_loss: 1.2706 - val_accuracy: 0.4746\n",
            "Epoch 117/200\n",
            "13/13 [==============================] - 0s 6ms/step - loss: 1.1954 - accuracy: 0.5141 - val_loss: 1.2706 - val_accuracy: 0.4746\n",
            "Epoch 118/200\n",
            "13/13 [==============================] - 0s 5ms/step - loss: 1.2017 - accuracy: 0.5151 - val_loss: 1.2709 - val_accuracy: 0.4714\n",
            "Epoch 119/200\n",
            "13/13 [==============================] - 0s 5ms/step - loss: 1.1806 - accuracy: 0.5193 - val_loss: 1.2699 - val_accuracy: 0.4752\n",
            "Epoch 120/200\n",
            "13/13 [==============================] - 0s 5ms/step - loss: 1.1717 - accuracy: 0.5307 - val_loss: 1.2696 - val_accuracy: 0.4771\n",
            "Epoch 121/200\n",
            "13/13 [==============================] - 0s 5ms/step - loss: 1.1762 - accuracy: 0.5300 - val_loss: 1.2689 - val_accuracy: 0.4720\n",
            "Epoch 122/200\n",
            "13/13 [==============================] - 0s 6ms/step - loss: 1.1760 - accuracy: 0.5320 - val_loss: 1.2691 - val_accuracy: 0.4797\n",
            "Epoch 123/200\n",
            "13/13 [==============================] - 0s 6ms/step - loss: 1.1841 - accuracy: 0.5199 - val_loss: 1.2689 - val_accuracy: 0.4701\n",
            "Epoch 124/200\n",
            "13/13 [==============================] - 0s 6ms/step - loss: 1.1723 - accuracy: 0.5317 - val_loss: 1.2688 - val_accuracy: 0.4765\n",
            "Epoch 125/200\n",
            "13/13 [==============================] - 0s 6ms/step - loss: 1.1841 - accuracy: 0.5233 - val_loss: 1.2698 - val_accuracy: 0.4771\n",
            "Epoch 126/200\n",
            "13/13 [==============================] - 0s 5ms/step - loss: 1.1715 - accuracy: 0.5325 - val_loss: 1.2664 - val_accuracy: 0.4771\n",
            "Epoch 127/200\n",
            "13/13 [==============================] - 0s 6ms/step - loss: 1.1788 - accuracy: 0.5286 - val_loss: 1.2684 - val_accuracy: 0.4752\n",
            "Epoch 128/200\n",
            "13/13 [==============================] - 0s 6ms/step - loss: 1.1887 - accuracy: 0.5158 - val_loss: 1.2680 - val_accuracy: 0.4746\n",
            "Epoch 129/200\n",
            "13/13 [==============================] - 0s 6ms/step - loss: 1.1765 - accuracy: 0.5210 - val_loss: 1.2686 - val_accuracy: 0.4778\n",
            "Epoch 130/200\n",
            "13/13 [==============================] - 0s 5ms/step - loss: 1.1860 - accuracy: 0.5203 - val_loss: 1.2671 - val_accuracy: 0.4797\n",
            "Epoch 131/200\n",
            "13/13 [==============================] - 0s 5ms/step - loss: 1.1776 - accuracy: 0.5220 - val_loss: 1.2663 - val_accuracy: 0.4790\n",
            "Epoch 132/200\n",
            "13/13 [==============================] - 0s 6ms/step - loss: 1.1791 - accuracy: 0.5184 - val_loss: 1.2667 - val_accuracy: 0.4816\n",
            "Epoch 133/200\n",
            "13/13 [==============================] - 0s 6ms/step - loss: 1.1710 - accuracy: 0.5231 - val_loss: 1.2666 - val_accuracy: 0.4752\n",
            "Epoch 134/200\n",
            "13/13 [==============================] - 0s 6ms/step - loss: 1.1795 - accuracy: 0.5218 - val_loss: 1.2664 - val_accuracy: 0.4765\n",
            "Epoch 135/200\n",
            "13/13 [==============================] - 0s 6ms/step - loss: 1.1741 - accuracy: 0.5228 - val_loss: 1.2665 - val_accuracy: 0.4790\n",
            "Epoch 136/200\n",
            "13/13 [==============================] - 0s 6ms/step - loss: 1.1667 - accuracy: 0.5265 - val_loss: 1.2654 - val_accuracy: 0.4746\n",
            "Epoch 137/200\n",
            "13/13 [==============================] - 0s 6ms/step - loss: 1.1700 - accuracy: 0.5205 - val_loss: 1.2653 - val_accuracy: 0.4752\n",
            "Epoch 138/200\n",
            "13/13 [==============================] - 0s 6ms/step - loss: 1.1737 - accuracy: 0.5277 - val_loss: 1.2653 - val_accuracy: 0.4759\n",
            "Epoch 139/200\n",
            "13/13 [==============================] - 0s 6ms/step - loss: 1.1753 - accuracy: 0.5221 - val_loss: 1.2651 - val_accuracy: 0.4797\n",
            "Epoch 140/200\n",
            "13/13 [==============================] - 0s 7ms/step - loss: 1.1633 - accuracy: 0.5288 - val_loss: 1.2652 - val_accuracy: 0.4784\n",
            "Epoch 141/200\n",
            "13/13 [==============================] - 0s 6ms/step - loss: 1.1663 - accuracy: 0.5220 - val_loss: 1.2647 - val_accuracy: 0.4746\n",
            "Epoch 142/200\n",
            "13/13 [==============================] - 0s 5ms/step - loss: 1.1688 - accuracy: 0.5280 - val_loss: 1.2645 - val_accuracy: 0.4778\n",
            "Epoch 143/200\n",
            "13/13 [==============================] - 0s 6ms/step - loss: 1.1684 - accuracy: 0.5253 - val_loss: 1.2638 - val_accuracy: 0.4759\n",
            "Epoch 144/200\n",
            "13/13 [==============================] - 0s 6ms/step - loss: 1.1742 - accuracy: 0.5307 - val_loss: 1.2643 - val_accuracy: 0.4771\n",
            "Epoch 145/200\n",
            "13/13 [==============================] - 0s 5ms/step - loss: 1.1631 - accuracy: 0.5317 - val_loss: 1.2637 - val_accuracy: 0.4790\n",
            "Epoch 146/200\n",
            "13/13 [==============================] - 0s 5ms/step - loss: 1.1690 - accuracy: 0.5303 - val_loss: 1.2631 - val_accuracy: 0.4809\n",
            "Epoch 147/200\n",
            "13/13 [==============================] - 0s 6ms/step - loss: 1.1547 - accuracy: 0.5362 - val_loss: 1.2639 - val_accuracy: 0.4771\n",
            "Epoch 148/200\n",
            "13/13 [==============================] - 0s 6ms/step - loss: 1.1637 - accuracy: 0.5304 - val_loss: 1.2622 - val_accuracy: 0.4809\n",
            "Epoch 149/200\n",
            "13/13 [==============================] - 0s 5ms/step - loss: 1.1582 - accuracy: 0.5303 - val_loss: 1.2629 - val_accuracy: 0.4803\n",
            "Epoch 150/200\n",
            "13/13 [==============================] - 0s 5ms/step - loss: 1.1528 - accuracy: 0.5398 - val_loss: 1.2625 - val_accuracy: 0.4790\n",
            "Epoch 151/200\n",
            "13/13 [==============================] - 0s 6ms/step - loss: 1.1523 - accuracy: 0.5372 - val_loss: 1.2632 - val_accuracy: 0.4759\n",
            "Epoch 152/200\n",
            "13/13 [==============================] - 0s 6ms/step - loss: 1.1606 - accuracy: 0.5277 - val_loss: 1.2626 - val_accuracy: 0.4778\n",
            "Epoch 153/200\n",
            "13/13 [==============================] - 0s 6ms/step - loss: 1.1667 - accuracy: 0.5272 - val_loss: 1.2627 - val_accuracy: 0.4790\n",
            "Epoch 154/200\n",
            "13/13 [==============================] - 0s 5ms/step - loss: 1.1499 - accuracy: 0.5375 - val_loss: 1.2629 - val_accuracy: 0.4803\n",
            "Epoch 155/200\n",
            "13/13 [==============================] - 0s 5ms/step - loss: 1.1467 - accuracy: 0.5483 - val_loss: 1.2625 - val_accuracy: 0.4778\n",
            "Epoch 156/200\n",
            "13/13 [==============================] - 0s 6ms/step - loss: 1.1463 - accuracy: 0.5422 - val_loss: 1.2619 - val_accuracy: 0.4803\n",
            "Epoch 157/200\n",
            "13/13 [==============================] - 0s 6ms/step - loss: 1.1479 - accuracy: 0.5351 - val_loss: 1.2618 - val_accuracy: 0.4809\n",
            "Epoch 158/200\n",
            "13/13 [==============================] - 0s 6ms/step - loss: 1.1582 - accuracy: 0.5372 - val_loss: 1.2613 - val_accuracy: 0.4809\n",
            "Epoch 159/200\n",
            "13/13 [==============================] - 0s 5ms/step - loss: 1.1563 - accuracy: 0.5374 - val_loss: 1.2614 - val_accuracy: 0.4803\n",
            "Epoch 160/200\n",
            "13/13 [==============================] - 0s 5ms/step - loss: 1.1512 - accuracy: 0.5403 - val_loss: 1.2618 - val_accuracy: 0.4784\n",
            "Epoch 161/200\n",
            "13/13 [==============================] - 0s 6ms/step - loss: 1.1518 - accuracy: 0.5348 - val_loss: 1.2606 - val_accuracy: 0.4797\n",
            "Epoch 162/200\n",
            "13/13 [==============================] - 0s 6ms/step - loss: 1.1542 - accuracy: 0.5313 - val_loss: 1.2606 - val_accuracy: 0.4790\n",
            "Epoch 163/200\n",
            "13/13 [==============================] - 0s 6ms/step - loss: 1.1526 - accuracy: 0.5371 - val_loss: 1.2617 - val_accuracy: 0.4816\n",
            "Epoch 164/200\n",
            "13/13 [==============================] - 0s 6ms/step - loss: 1.1629 - accuracy: 0.5362 - val_loss: 1.2604 - val_accuracy: 0.4841\n",
            "Epoch 165/200\n",
            "13/13 [==============================] - 0s 6ms/step - loss: 1.1466 - accuracy: 0.5309 - val_loss: 1.2622 - val_accuracy: 0.4809\n",
            "Epoch 166/200\n",
            "13/13 [==============================] - 0s 5ms/step - loss: 1.1684 - accuracy: 0.5315 - val_loss: 1.2606 - val_accuracy: 0.4860\n",
            "Epoch 167/200\n",
            "13/13 [==============================] - 0s 6ms/step - loss: 1.1535 - accuracy: 0.5350 - val_loss: 1.2609 - val_accuracy: 0.4816\n",
            "Epoch 168/200\n",
            "13/13 [==============================] - 0s 6ms/step - loss: 1.1549 - accuracy: 0.5358 - val_loss: 1.2601 - val_accuracy: 0.4784\n",
            "Epoch 169/200\n",
            "13/13 [==============================] - 0s 6ms/step - loss: 1.1510 - accuracy: 0.5332 - val_loss: 1.2601 - val_accuracy: 0.4803\n",
            "Epoch 170/200\n",
            "13/13 [==============================] - 0s 6ms/step - loss: 1.1552 - accuracy: 0.5354 - val_loss: 1.2602 - val_accuracy: 0.4835\n",
            "Epoch 171/200\n",
            "13/13 [==============================] - 0s 6ms/step - loss: 1.1478 - accuracy: 0.5376 - val_loss: 1.2605 - val_accuracy: 0.4848\n",
            "Epoch 172/200\n",
            "13/13 [==============================] - 0s 6ms/step - loss: 1.1530 - accuracy: 0.5348 - val_loss: 1.2598 - val_accuracy: 0.4848\n",
            "Epoch 173/200\n",
            "13/13 [==============================] - 0s 6ms/step - loss: 1.1444 - accuracy: 0.5398 - val_loss: 1.2602 - val_accuracy: 0.4828\n",
            "Epoch 174/200\n",
            "13/13 [==============================] - 0s 5ms/step - loss: 1.1392 - accuracy: 0.5383 - val_loss: 1.2607 - val_accuracy: 0.4809\n",
            "Epoch 175/200\n",
            "13/13 [==============================] - 0s 5ms/step - loss: 1.1528 - accuracy: 0.5346 - val_loss: 1.2595 - val_accuracy: 0.4841\n",
            "Epoch 176/200\n",
            "13/13 [==============================] - 0s 6ms/step - loss: 1.1440 - accuracy: 0.5327 - val_loss: 1.2587 - val_accuracy: 0.4828\n",
            "Epoch 177/200\n",
            "13/13 [==============================] - 0s 6ms/step - loss: 1.1422 - accuracy: 0.5391 - val_loss: 1.2597 - val_accuracy: 0.4835\n",
            "Epoch 178/200\n",
            "13/13 [==============================] - 0s 6ms/step - loss: 1.1360 - accuracy: 0.5434 - val_loss: 1.2600 - val_accuracy: 0.4867\n",
            "Epoch 179/200\n",
            "13/13 [==============================] - 0s 6ms/step - loss: 1.1437 - accuracy: 0.5376 - val_loss: 1.2589 - val_accuracy: 0.4860\n",
            "Epoch 180/200\n",
            "13/13 [==============================] - 0s 6ms/step - loss: 1.1411 - accuracy: 0.5373 - val_loss: 1.2602 - val_accuracy: 0.4828\n",
            "Epoch 181/200\n",
            "13/13 [==============================] - 0s 6ms/step - loss: 1.1495 - accuracy: 0.5357 - val_loss: 1.2594 - val_accuracy: 0.4867\n",
            "Epoch 182/200\n",
            "13/13 [==============================] - 0s 7ms/step - loss: 1.1366 - accuracy: 0.5392 - val_loss: 1.2604 - val_accuracy: 0.4822\n",
            "Epoch 183/200\n",
            "13/13 [==============================] - 0s 6ms/step - loss: 1.1410 - accuracy: 0.5462 - val_loss: 1.2587 - val_accuracy: 0.4828\n",
            "Epoch 184/200\n",
            "13/13 [==============================] - 0s 5ms/step - loss: 1.1488 - accuracy: 0.5387 - val_loss: 1.2593 - val_accuracy: 0.4816\n",
            "Epoch 185/200\n",
            "13/13 [==============================] - 0s 6ms/step - loss: 1.1476 - accuracy: 0.5355 - val_loss: 1.2586 - val_accuracy: 0.4905\n",
            "Epoch 186/200\n",
            "13/13 [==============================] - 0s 6ms/step - loss: 1.1452 - accuracy: 0.5412 - val_loss: 1.2600 - val_accuracy: 0.4841\n",
            "Epoch 187/200\n",
            "13/13 [==============================] - 0s 6ms/step - loss: 1.1429 - accuracy: 0.5423 - val_loss: 1.2583 - val_accuracy: 0.4860\n",
            "Epoch 188/200\n",
            "13/13 [==============================] - 0s 6ms/step - loss: 1.1437 - accuracy: 0.5417 - val_loss: 1.2598 - val_accuracy: 0.4822\n",
            "Epoch 189/200\n",
            "13/13 [==============================] - 0s 6ms/step - loss: 1.1185 - accuracy: 0.5517 - val_loss: 1.2589 - val_accuracy: 0.4841\n",
            "Epoch 190/200\n",
            "13/13 [==============================] - 0s 6ms/step - loss: 1.1398 - accuracy: 0.5418 - val_loss: 1.2592 - val_accuracy: 0.4848\n",
            "Epoch 191/200\n",
            "13/13 [==============================] - 0s 6ms/step - loss: 1.1388 - accuracy: 0.5386 - val_loss: 1.2586 - val_accuracy: 0.4879\n",
            "Epoch 192/200\n",
            "13/13 [==============================] - 0s 6ms/step - loss: 1.1453 - accuracy: 0.5428 - val_loss: 1.2594 - val_accuracy: 0.4873\n",
            "Epoch 193/200\n",
            "13/13 [==============================] - 0s 6ms/step - loss: 1.1356 - accuracy: 0.5374 - val_loss: 1.2606 - val_accuracy: 0.4822\n",
            "Epoch 194/200\n",
            "13/13 [==============================] - 0s 6ms/step - loss: 1.1293 - accuracy: 0.5463 - val_loss: 1.2587 - val_accuracy: 0.4898\n",
            "Epoch 195/200\n",
            "13/13 [==============================] - 0s 7ms/step - loss: 1.1349 - accuracy: 0.5448 - val_loss: 1.2594 - val_accuracy: 0.4873\n",
            "Epoch 196/200\n",
            "13/13 [==============================] - 0s 6ms/step - loss: 1.1357 - accuracy: 0.5372 - val_loss: 1.2585 - val_accuracy: 0.4860\n",
            "Epoch 197/200\n",
            "13/13 [==============================] - 0s 6ms/step - loss: 1.1476 - accuracy: 0.5384 - val_loss: 1.2578 - val_accuracy: 0.4867\n",
            "Epoch 198/200\n",
            "13/13 [==============================] - 0s 6ms/step - loss: 1.1461 - accuracy: 0.5349 - val_loss: 1.2579 - val_accuracy: 0.4879\n",
            "Epoch 199/200\n",
            "13/13 [==============================] - 0s 6ms/step - loss: 1.1403 - accuracy: 0.5400 - val_loss: 1.2591 - val_accuracy: 0.4886\n",
            "Epoch 200/200\n",
            "13/13 [==============================] - 0s 6ms/step - loss: 1.1384 - accuracy: 0.5370 - val_loss: 1.2589 - val_accuracy: 0.4879\n"
          ],
          "name": "stdout"
        }
      ]
    },
    {
      "cell_type": "markdown",
      "metadata": {
        "id": "I3cl74dabeZv"
      },
      "source": [
        "#### Visualization"
      ]
    },
    {
      "cell_type": "code",
      "metadata": {
        "id": "RxCab74HLacY"
      },
      "source": [
        "val_accuracy = history_2.history[\"val_accuracy\"]"
      ],
      "execution_count": 154,
      "outputs": []
    },
    {
      "cell_type": "code",
      "metadata": {
        "id": "scxw91OnLbRU"
      },
      "source": [
        "accuracy = history_2.history[\"accuracy\"]"
      ],
      "execution_count": 155,
      "outputs": []
    },
    {
      "cell_type": "code",
      "metadata": {
        "colab": {
          "base_uri": "https://localhost:8080/",
          "height": 442
        },
        "id": "0nMe8lCVLbZI",
        "outputId": "eea45642-fda7-4b14-8e44-1b0a906575db"
      },
      "source": [
        "plt.figure(figsize=(7,7))\r\n",
        "plt.plot(accuracy, label=\"accuracy\")\r\n",
        "plt.plot(val_accuracy, label=\"validation accuracy\")\r\n",
        "plt.legend()\r\n",
        "plt.xticks(np.arange(0, 200, step=15))\r\n",
        "plt.xlabel('epochs')\r\n",
        "plt.ylabel(\"%\")\r\n",
        "plt.show()"
      ],
      "execution_count": 156,
      "outputs": [
        {
          "output_type": "display_data",
          "data": {
            "image/png": "[encoded data removed]",
            "text/plain": [
              "<Figure size 504x504 with 1 Axes>"
            ]
          },
          "metadata": {
            "tags": [],
            "needs_background": "light"
          }
        }
      ]
    },
    {
      "cell_type": "code",
      "metadata": {
        "colab": {
          "base_uri": "https://localhost:8080/"
        },
        "id": "lerh5_xXI22E",
        "outputId": "90966479-511a-4144-fc07-e92da4286f58"
      },
      "source": [
        "model_2.evaluate(test_X, test_y)"
      ],
      "execution_count": 157,
      "outputs": [
        {
          "output_type": "stream",
          "text": [
            "63/63 [==============================] - 0s 1ms/step - loss: 1.2309 - accuracy: 0.4875\n"
          ],
          "name": "stdout"
        },
        {
          "output_type": "execute_result",
          "data": {
            "text/plain": [
              "[1.2308564186096191, 0.48752495646476746]"
            ]
          },
          "metadata": {
            "tags": []
          },
          "execution_count": 157
        }
      ]
    },
    {
      "cell_type": "markdown",
      "metadata": {
        "id": "7QV-P0T6JlKs"
      },
      "source": [
        "Not a good accuracy to keep this network"
      ]
    },
    {
      "cell_type": "code",
      "metadata": {
        "id": "B6CroIICM6Rq"
      },
      "source": [
        "loss = history_2.history[\"loss\"]"
      ],
      "execution_count": 158,
      "outputs": []
    },
    {
      "cell_type": "code",
      "metadata": {
        "id": "E_7zaw15M6aG"
      },
      "source": [
        "val_loss = history_2.history[\"val_loss\"]"
      ],
      "execution_count": 159,
      "outputs": []
    },
    {
      "cell_type": "code",
      "metadata": {
        "colab": {
          "base_uri": "https://localhost:8080/",
          "height": 442
        },
        "id": "IbkZdDefM6hM",
        "outputId": "be0b1e79-8f8f-46a7-b935-9d82b5d285c2"
      },
      "source": [
        "plt.figure(figsize=(7,7))\r\n",
        "plt.plot(loss, label=\"loss\")\r\n",
        "plt.plot(val_loss, label=\"validation loss\")\r\n",
        "plt.legend()\r\n",
        "plt.xticks(np.arange(0, 200, step=15))\r\n",
        "plt.xlabel('epochs')\r\n",
        "plt.show()"
      ],
      "execution_count": 160,
      "outputs": [
        {
          "output_type": "display_data",
          "data": {
            "image/png": "[encoded data removed]",
            "text/plain": [
              "<Figure size 504x504 with 1 Axes>"
            ]
          },
          "metadata": {
            "tags": [],
            "needs_background": "light"
          }
        }
      ]
    },
    {
      "cell_type": "markdown",
      "metadata": {
        "id": "l3F99-vJJrum"
      },
      "source": [
        "Let's try with an even bigger network but still with 2 layers"
      ]
    },
    {
      "cell_type": "markdown",
      "metadata": {
        "id": "wSowVDOCbjhg"
      },
      "source": [
        "### Third network"
      ]
    },
    {
      "cell_type": "code",
      "metadata": {
        "id": "7HvRN4b7J1uh"
      },
      "source": [
        "model_3 = keras.Sequential()\r\n",
        "model_3.add(keras.layers.Dense(128, input_dim = 32, activation = \"relu\"))\r\n",
        "model_3.add(keras.layers.Dense(5, activation= \"softmax\"))"
      ],
      "execution_count": 161,
      "outputs": []
    },
    {
      "cell_type": "code",
      "metadata": {
        "id": "LDs8aJj6KASX"
      },
      "source": [
        "model_3.compile(optimizer='adam', loss = \"categorical_crossentropy\", metrics = [\"accuracy\"])"
      ],
      "execution_count": 162,
      "outputs": []
    },
    {
      "cell_type": "code",
      "metadata": {
        "colab": {
          "base_uri": "https://localhost:8080/"
        },
        "id": "E7851it1KHJL",
        "outputId": "623ce62f-a599-445f-d54d-7731de176df3"
      },
      "source": [
        "history_3 = model_3.fit(train_X,train_y, validation_split=0.2, batch_size=512, epochs = 200)"
      ],
      "execution_count": 163,
      "outputs": [
        {
          "output_type": "stream",
          "text": [
            "Epoch 1/200\n",
            "13/13 [==============================] - 1s 40ms/step - loss: 1.5759 - accuracy: 0.3168 - val_loss: 1.5316 - val_accuracy: 0.3494\n",
            "Epoch 2/200\n",
            "13/13 [==============================] - 0s 5ms/step - loss: 1.5180 - accuracy: 0.3574 - val_loss: 1.4918 - val_accuracy: 0.3653\n",
            "Epoch 3/200\n",
            "13/13 [==============================] - 0s 6ms/step - loss: 1.4785 - accuracy: 0.3640 - val_loss: 1.4695 - val_accuracy: 0.3780\n",
            "Epoch 4/200\n",
            "13/13 [==============================] - 0s 6ms/step - loss: 1.4635 - accuracy: 0.3797 - val_loss: 1.4533 - val_accuracy: 0.3907\n",
            "Epoch 5/200\n",
            "13/13 [==============================] - 0s 5ms/step - loss: 1.4332 - accuracy: 0.3997 - val_loss: 1.4388 - val_accuracy: 0.3895\n",
            "Epoch 6/200\n",
            "13/13 [==============================] - 0s 6ms/step - loss: 1.4242 - accuracy: 0.3995 - val_loss: 1.4247 - val_accuracy: 0.3952\n",
            "Epoch 7/200\n",
            "13/13 [==============================] - 0s 6ms/step - loss: 1.4143 - accuracy: 0.4046 - val_loss: 1.4153 - val_accuracy: 0.3996\n",
            "Epoch 8/200\n",
            "13/13 [==============================] - 0s 6ms/step - loss: 1.3949 - accuracy: 0.4182 - val_loss: 1.4065 - val_accuracy: 0.4041\n",
            "Epoch 9/200\n",
            "13/13 [==============================] - 0s 6ms/step - loss: 1.3833 - accuracy: 0.4237 - val_loss: 1.3994 - val_accuracy: 0.4079\n",
            "Epoch 10/200\n",
            "13/13 [==============================] - 0s 6ms/step - loss: 1.3797 - accuracy: 0.4230 - val_loss: 1.3940 - val_accuracy: 0.4111\n",
            "Epoch 11/200\n",
            "13/13 [==============================] - 0s 5ms/step - loss: 1.3731 - accuracy: 0.4301 - val_loss: 1.3875 - val_accuracy: 0.4098\n",
            "Epoch 12/200\n",
            "13/13 [==============================] - 0s 6ms/step - loss: 1.3653 - accuracy: 0.4399 - val_loss: 1.3832 - val_accuracy: 0.4180\n",
            "Epoch 13/200\n",
            "13/13 [==============================] - 0s 6ms/step - loss: 1.3633 - accuracy: 0.4420 - val_loss: 1.3768 - val_accuracy: 0.4104\n",
            "Epoch 14/200\n",
            "13/13 [==============================] - 0s 6ms/step - loss: 1.3518 - accuracy: 0.4485 - val_loss: 1.3739 - val_accuracy: 0.4219\n",
            "Epoch 15/200\n",
            "13/13 [==============================] - 0s 6ms/step - loss: 1.3577 - accuracy: 0.4420 - val_loss: 1.3690 - val_accuracy: 0.4295\n",
            "Epoch 16/200\n",
            "13/13 [==============================] - 0s 6ms/step - loss: 1.3394 - accuracy: 0.4564 - val_loss: 1.3632 - val_accuracy: 0.4219\n",
            "Epoch 17/200\n",
            "13/13 [==============================] - 0s 6ms/step - loss: 1.3318 - accuracy: 0.4527 - val_loss: 1.3596 - val_accuracy: 0.4352\n",
            "Epoch 18/200\n",
            "13/13 [==============================] - 0s 6ms/step - loss: 1.3320 - accuracy: 0.4517 - val_loss: 1.3555 - val_accuracy: 0.4314\n",
            "Epoch 19/200\n",
            "13/13 [==============================] - 0s 6ms/step - loss: 1.3317 - accuracy: 0.4536 - val_loss: 1.3521 - val_accuracy: 0.4390\n",
            "Epoch 20/200\n",
            "13/13 [==============================] - 0s 6ms/step - loss: 1.3241 - accuracy: 0.4666 - val_loss: 1.3474 - val_accuracy: 0.4416\n",
            "Epoch 21/200\n",
            "13/13 [==============================] - 0s 6ms/step - loss: 1.3117 - accuracy: 0.4675 - val_loss: 1.3436 - val_accuracy: 0.4346\n",
            "Epoch 22/200\n",
            "13/13 [==============================] - 0s 6ms/step - loss: 1.3072 - accuracy: 0.4706 - val_loss: 1.3411 - val_accuracy: 0.4441\n",
            "Epoch 23/200\n",
            "13/13 [==============================] - 0s 6ms/step - loss: 1.3096 - accuracy: 0.4745 - val_loss: 1.3364 - val_accuracy: 0.4377\n",
            "Epoch 24/200\n",
            "13/13 [==============================] - 0s 6ms/step - loss: 1.3032 - accuracy: 0.4715 - val_loss: 1.3332 - val_accuracy: 0.4441\n",
            "Epoch 25/200\n",
            "13/13 [==============================] - 0s 6ms/step - loss: 1.3019 - accuracy: 0.4726 - val_loss: 1.3296 - val_accuracy: 0.4428\n",
            "Epoch 26/200\n",
            "13/13 [==============================] - 0s 6ms/step - loss: 1.2914 - accuracy: 0.4771 - val_loss: 1.3264 - val_accuracy: 0.4466\n",
            "Epoch 27/200\n",
            "13/13 [==============================] - 0s 5ms/step - loss: 1.2887 - accuracy: 0.4794 - val_loss: 1.3243 - val_accuracy: 0.4441\n",
            "Epoch 28/200\n",
            "13/13 [==============================] - 0s 5ms/step - loss: 1.2923 - accuracy: 0.4778 - val_loss: 1.3215 - val_accuracy: 0.4473\n",
            "Epoch 29/200\n",
            "13/13 [==============================] - 0s 6ms/step - loss: 1.2857 - accuracy: 0.4817 - val_loss: 1.3195 - val_accuracy: 0.4498\n",
            "Epoch 30/200\n",
            "13/13 [==============================] - 0s 6ms/step - loss: 1.2785 - accuracy: 0.4826 - val_loss: 1.3155 - val_accuracy: 0.4504\n",
            "Epoch 31/200\n",
            "13/13 [==============================] - 0s 6ms/step - loss: 1.2754 - accuracy: 0.4782 - val_loss: 1.3138 - val_accuracy: 0.4511\n",
            "Epoch 32/200\n",
            "13/13 [==============================] - 0s 6ms/step - loss: 1.2814 - accuracy: 0.4785 - val_loss: 1.3102 - val_accuracy: 0.4517\n",
            "Epoch 33/200\n",
            "13/13 [==============================] - 0s 6ms/step - loss: 1.2751 - accuracy: 0.4832 - val_loss: 1.3093 - val_accuracy: 0.4612\n",
            "Epoch 34/200\n",
            "13/13 [==============================] - 0s 6ms/step - loss: 1.2753 - accuracy: 0.4802 - val_loss: 1.3067 - val_accuracy: 0.4555\n",
            "Epoch 35/200\n",
            "13/13 [==============================] - 0s 6ms/step - loss: 1.2731 - accuracy: 0.4813 - val_loss: 1.3050 - val_accuracy: 0.4517\n",
            "Epoch 36/200\n",
            "13/13 [==============================] - 0s 6ms/step - loss: 1.2645 - accuracy: 0.4817 - val_loss: 1.3033 - val_accuracy: 0.4593\n",
            "Epoch 37/200\n",
            "13/13 [==============================] - 0s 6ms/step - loss: 1.2598 - accuracy: 0.4936 - val_loss: 1.3011 - val_accuracy: 0.4574\n",
            "Epoch 38/200\n",
            "13/13 [==============================] - 0s 6ms/step - loss: 1.2575 - accuracy: 0.4950 - val_loss: 1.2994 - val_accuracy: 0.4549\n",
            "Epoch 39/200\n",
            "13/13 [==============================] - 0s 6ms/step - loss: 1.2591 - accuracy: 0.4886 - val_loss: 1.2974 - val_accuracy: 0.4568\n",
            "Epoch 40/200\n",
            "13/13 [==============================] - 0s 6ms/step - loss: 1.2489 - accuracy: 0.4987 - val_loss: 1.2967 - val_accuracy: 0.4593\n",
            "Epoch 41/200\n",
            "13/13 [==============================] - 0s 6ms/step - loss: 1.2445 - accuracy: 0.4897 - val_loss: 1.2946 - val_accuracy: 0.4593\n",
            "Epoch 42/200\n",
            "13/13 [==============================] - 0s 6ms/step - loss: 1.2588 - accuracy: 0.4878 - val_loss: 1.2925 - val_accuracy: 0.4612\n",
            "Epoch 43/200\n",
            "13/13 [==============================] - 0s 6ms/step - loss: 1.2351 - accuracy: 0.4991 - val_loss: 1.2910 - val_accuracy: 0.4581\n",
            "Epoch 44/200\n",
            "13/13 [==============================] - 0s 6ms/step - loss: 1.2421 - accuracy: 0.4945 - val_loss: 1.2902 - val_accuracy: 0.4593\n",
            "Epoch 45/200\n",
            "13/13 [==============================] - 0s 6ms/step - loss: 1.2398 - accuracy: 0.4964 - val_loss: 1.2885 - val_accuracy: 0.4676\n",
            "Epoch 46/200\n",
            "13/13 [==============================] - 0s 6ms/step - loss: 1.2433 - accuracy: 0.4988 - val_loss: 1.2876 - val_accuracy: 0.4632\n",
            "Epoch 47/200\n",
            "13/13 [==============================] - 0s 6ms/step - loss: 1.2323 - accuracy: 0.5036 - val_loss: 1.2859 - val_accuracy: 0.4651\n",
            "Epoch 48/200\n",
            "13/13 [==============================] - 0s 6ms/step - loss: 1.2388 - accuracy: 0.5015 - val_loss: 1.2851 - val_accuracy: 0.4593\n",
            "Epoch 49/200\n",
            "13/13 [==============================] - 0s 6ms/step - loss: 1.2239 - accuracy: 0.5071 - val_loss: 1.2834 - val_accuracy: 0.4651\n",
            "Epoch 50/200\n",
            "13/13 [==============================] - 0s 6ms/step - loss: 1.2360 - accuracy: 0.4979 - val_loss: 1.2824 - val_accuracy: 0.4651\n",
            "Epoch 51/200\n",
            "13/13 [==============================] - 0s 6ms/step - loss: 1.2278 - accuracy: 0.5080 - val_loss: 1.2810 - val_accuracy: 0.4689\n",
            "Epoch 52/200\n",
            "13/13 [==============================] - 0s 6ms/step - loss: 1.2389 - accuracy: 0.4974 - val_loss: 1.2811 - val_accuracy: 0.4638\n",
            "Epoch 53/200\n",
            "13/13 [==============================] - 0s 6ms/step - loss: 1.2218 - accuracy: 0.5052 - val_loss: 1.2787 - val_accuracy: 0.4676\n",
            "Epoch 54/200\n",
            "13/13 [==============================] - 0s 6ms/step - loss: 1.2267 - accuracy: 0.5049 - val_loss: 1.2786 - val_accuracy: 0.4701\n",
            "Epoch 55/200\n",
            "13/13 [==============================] - 0s 6ms/step - loss: 1.2285 - accuracy: 0.5018 - val_loss: 1.2773 - val_accuracy: 0.4651\n",
            "Epoch 56/200\n",
            "13/13 [==============================] - 0s 6ms/step - loss: 1.2178 - accuracy: 0.5083 - val_loss: 1.2763 - val_accuracy: 0.4695\n",
            "Epoch 57/200\n",
            "13/13 [==============================] - 0s 6ms/step - loss: 1.2209 - accuracy: 0.5145 - val_loss: 1.2744 - val_accuracy: 0.4638\n",
            "Epoch 58/200\n",
            "13/13 [==============================] - 0s 6ms/step - loss: 1.2178 - accuracy: 0.5116 - val_loss: 1.2746 - val_accuracy: 0.4663\n",
            "Epoch 59/200\n",
            "13/13 [==============================] - 0s 6ms/step - loss: 1.2071 - accuracy: 0.5154 - val_loss: 1.2723 - val_accuracy: 0.4701\n",
            "Epoch 60/200\n",
            "13/13 [==============================] - 0s 6ms/step - loss: 1.2220 - accuracy: 0.5095 - val_loss: 1.2711 - val_accuracy: 0.4663\n",
            "Epoch 61/200\n",
            "13/13 [==============================] - 0s 6ms/step - loss: 1.2031 - accuracy: 0.5160 - val_loss: 1.2707 - val_accuracy: 0.4663\n",
            "Epoch 62/200\n",
            "13/13 [==============================] - 0s 6ms/step - loss: 1.2016 - accuracy: 0.5111 - val_loss: 1.2695 - val_accuracy: 0.4714\n",
            "Epoch 63/200\n",
            "13/13 [==============================] - 0s 6ms/step - loss: 1.1999 - accuracy: 0.5140 - val_loss: 1.2686 - val_accuracy: 0.4689\n",
            "Epoch 64/200\n",
            "13/13 [==============================] - 0s 6ms/step - loss: 1.1988 - accuracy: 0.5203 - val_loss: 1.2673 - val_accuracy: 0.4676\n",
            "Epoch 65/200\n",
            "13/13 [==============================] - 0s 6ms/step - loss: 1.1997 - accuracy: 0.5269 - val_loss: 1.2681 - val_accuracy: 0.4689\n",
            "Epoch 66/200\n",
            "13/13 [==============================] - 0s 6ms/step - loss: 1.1986 - accuracy: 0.5212 - val_loss: 1.2664 - val_accuracy: 0.4682\n",
            "Epoch 67/200\n",
            "13/13 [==============================] - 0s 5ms/step - loss: 1.1885 - accuracy: 0.5271 - val_loss: 1.2652 - val_accuracy: 0.4733\n",
            "Epoch 68/200\n",
            "13/13 [==============================] - 0s 6ms/step - loss: 1.1871 - accuracy: 0.5224 - val_loss: 1.2646 - val_accuracy: 0.4695\n",
            "Epoch 69/200\n",
            "13/13 [==============================] - 0s 6ms/step - loss: 1.2001 - accuracy: 0.5104 - val_loss: 1.2631 - val_accuracy: 0.4695\n",
            "Epoch 70/200\n",
            "13/13 [==============================] - 0s 6ms/step - loss: 1.1773 - accuracy: 0.5285 - val_loss: 1.2644 - val_accuracy: 0.4740\n",
            "Epoch 71/200\n",
            "13/13 [==============================] - 0s 6ms/step - loss: 1.1985 - accuracy: 0.5202 - val_loss: 1.2617 - val_accuracy: 0.4701\n",
            "Epoch 72/200\n",
            "13/13 [==============================] - 0s 6ms/step - loss: 1.1784 - accuracy: 0.5249 - val_loss: 1.2608 - val_accuracy: 0.4746\n",
            "Epoch 73/200\n",
            "13/13 [==============================] - 0s 6ms/step - loss: 1.1871 - accuracy: 0.5252 - val_loss: 1.2606 - val_accuracy: 0.4714\n",
            "Epoch 74/200\n",
            "13/13 [==============================] - 0s 6ms/step - loss: 1.1749 - accuracy: 0.5360 - val_loss: 1.2598 - val_accuracy: 0.4752\n",
            "Epoch 75/200\n",
            "13/13 [==============================] - 0s 6ms/step - loss: 1.1806 - accuracy: 0.5267 - val_loss: 1.2602 - val_accuracy: 0.4784\n",
            "Epoch 76/200\n",
            "13/13 [==============================] - 0s 6ms/step - loss: 1.1950 - accuracy: 0.5187 - val_loss: 1.2592 - val_accuracy: 0.4746\n",
            "Epoch 77/200\n",
            "13/13 [==============================] - 0s 6ms/step - loss: 1.1818 - accuracy: 0.5282 - val_loss: 1.2599 - val_accuracy: 0.4752\n",
            "Epoch 78/200\n",
            "13/13 [==============================] - 0s 6ms/step - loss: 1.1746 - accuracy: 0.5301 - val_loss: 1.2575 - val_accuracy: 0.4759\n",
            "Epoch 79/200\n",
            "13/13 [==============================] - 0s 6ms/step - loss: 1.1827 - accuracy: 0.5262 - val_loss: 1.2571 - val_accuracy: 0.4746\n",
            "Epoch 80/200\n",
            "13/13 [==============================] - 0s 6ms/step - loss: 1.1727 - accuracy: 0.5277 - val_loss: 1.2565 - val_accuracy: 0.4759\n",
            "Epoch 81/200\n",
            "13/13 [==============================] - 0s 6ms/step - loss: 1.1730 - accuracy: 0.5325 - val_loss: 1.2565 - val_accuracy: 0.4733\n",
            "Epoch 82/200\n",
            "13/13 [==============================] - 0s 6ms/step - loss: 1.1717 - accuracy: 0.5279 - val_loss: 1.2569 - val_accuracy: 0.4727\n",
            "Epoch 83/200\n",
            "13/13 [==============================] - 0s 6ms/step - loss: 1.1861 - accuracy: 0.5221 - val_loss: 1.2543 - val_accuracy: 0.4759\n",
            "Epoch 84/200\n",
            "13/13 [==============================] - 0s 6ms/step - loss: 1.1813 - accuracy: 0.5224 - val_loss: 1.2567 - val_accuracy: 0.4746\n",
            "Epoch 85/200\n",
            "13/13 [==============================] - 0s 6ms/step - loss: 1.1672 - accuracy: 0.5346 - val_loss: 1.2535 - val_accuracy: 0.4784\n",
            "Epoch 86/200\n",
            "13/13 [==============================] - 0s 6ms/step - loss: 1.1582 - accuracy: 0.5396 - val_loss: 1.2545 - val_accuracy: 0.4740\n",
            "Epoch 87/200\n",
            "13/13 [==============================] - 0s 6ms/step - loss: 1.1692 - accuracy: 0.5279 - val_loss: 1.2541 - val_accuracy: 0.4759\n",
            "Epoch 88/200\n",
            "13/13 [==============================] - 0s 6ms/step - loss: 1.1692 - accuracy: 0.5354 - val_loss: 1.2537 - val_accuracy: 0.4803\n",
            "Epoch 89/200\n",
            "13/13 [==============================] - 0s 6ms/step - loss: 1.1559 - accuracy: 0.5368 - val_loss: 1.2529 - val_accuracy: 0.4778\n",
            "Epoch 90/200\n",
            "13/13 [==============================] - 0s 6ms/step - loss: 1.1692 - accuracy: 0.5346 - val_loss: 1.2522 - val_accuracy: 0.4790\n",
            "Epoch 91/200\n",
            "13/13 [==============================] - 0s 6ms/step - loss: 1.1686 - accuracy: 0.5331 - val_loss: 1.2531 - val_accuracy: 0.4740\n",
            "Epoch 92/200\n",
            "13/13 [==============================] - 0s 6ms/step - loss: 1.1686 - accuracy: 0.5313 - val_loss: 1.2538 - val_accuracy: 0.4778\n",
            "Epoch 93/200\n",
            "13/13 [==============================] - 0s 6ms/step - loss: 1.1611 - accuracy: 0.5333 - val_loss: 1.2514 - val_accuracy: 0.4803\n",
            "Epoch 94/200\n",
            "13/13 [==============================] - 0s 6ms/step - loss: 1.1657 - accuracy: 0.5356 - val_loss: 1.2509 - val_accuracy: 0.4778\n",
            "Epoch 95/200\n",
            "13/13 [==============================] - 0s 6ms/step - loss: 1.1586 - accuracy: 0.5349 - val_loss: 1.2513 - val_accuracy: 0.4765\n",
            "Epoch 96/200\n",
            "13/13 [==============================] - 0s 6ms/step - loss: 1.1550 - accuracy: 0.5416 - val_loss: 1.2508 - val_accuracy: 0.4790\n",
            "Epoch 97/200\n",
            "13/13 [==============================] - 0s 6ms/step - loss: 1.1568 - accuracy: 0.5422 - val_loss: 1.2485 - val_accuracy: 0.4809\n",
            "Epoch 98/200\n",
            "13/13 [==============================] - 0s 6ms/step - loss: 1.1458 - accuracy: 0.5400 - val_loss: 1.2493 - val_accuracy: 0.4778\n",
            "Epoch 99/200\n",
            "13/13 [==============================] - 0s 6ms/step - loss: 1.1528 - accuracy: 0.5382 - val_loss: 1.2509 - val_accuracy: 0.4778\n",
            "Epoch 100/200\n",
            "13/13 [==============================] - 0s 6ms/step - loss: 1.1509 - accuracy: 0.5372 - val_loss: 1.2468 - val_accuracy: 0.4803\n",
            "Epoch 101/200\n",
            "13/13 [==============================] - 0s 6ms/step - loss: 1.1513 - accuracy: 0.5370 - val_loss: 1.2502 - val_accuracy: 0.4809\n",
            "Epoch 102/200\n",
            "13/13 [==============================] - 0s 6ms/step - loss: 1.1587 - accuracy: 0.5338 - val_loss: 1.2472 - val_accuracy: 0.4771\n",
            "Epoch 103/200\n",
            "13/13 [==============================] - 0s 6ms/step - loss: 1.1509 - accuracy: 0.5458 - val_loss: 1.2482 - val_accuracy: 0.4822\n",
            "Epoch 104/200\n",
            "13/13 [==============================] - 0s 6ms/step - loss: 1.1562 - accuracy: 0.5342 - val_loss: 1.2467 - val_accuracy: 0.4848\n",
            "Epoch 105/200\n",
            "13/13 [==============================] - 0s 6ms/step - loss: 1.1408 - accuracy: 0.5493 - val_loss: 1.2465 - val_accuracy: 0.4778\n",
            "Epoch 106/200\n",
            "13/13 [==============================] - 0s 6ms/step - loss: 1.1476 - accuracy: 0.5395 - val_loss: 1.2451 - val_accuracy: 0.4873\n",
            "Epoch 107/200\n",
            "13/13 [==============================] - 0s 7ms/step - loss: 1.1400 - accuracy: 0.5404 - val_loss: 1.2452 - val_accuracy: 0.4841\n",
            "Epoch 108/200\n",
            "13/13 [==============================] - 0s 6ms/step - loss: 1.1470 - accuracy: 0.5395 - val_loss: 1.2452 - val_accuracy: 0.4809\n",
            "Epoch 109/200\n",
            "13/13 [==============================] - 0s 6ms/step - loss: 1.1399 - accuracy: 0.5426 - val_loss: 1.2431 - val_accuracy: 0.4892\n",
            "Epoch 110/200\n",
            "13/13 [==============================] - 0s 6ms/step - loss: 1.1387 - accuracy: 0.5482 - val_loss: 1.2433 - val_accuracy: 0.4879\n",
            "Epoch 111/200\n",
            "13/13 [==============================] - 0s 6ms/step - loss: 1.1394 - accuracy: 0.5450 - val_loss: 1.2436 - val_accuracy: 0.4860\n",
            "Epoch 112/200\n",
            "13/13 [==============================] - 0s 6ms/step - loss: 1.1377 - accuracy: 0.5457 - val_loss: 1.2429 - val_accuracy: 0.4854\n",
            "Epoch 113/200\n",
            "13/13 [==============================] - 0s 6ms/step - loss: 1.1411 - accuracy: 0.5409 - val_loss: 1.2425 - val_accuracy: 0.4892\n",
            "Epoch 114/200\n",
            "13/13 [==============================] - 0s 7ms/step - loss: 1.1361 - accuracy: 0.5476 - val_loss: 1.2440 - val_accuracy: 0.4822\n",
            "Epoch 115/200\n",
            "13/13 [==============================] - 0s 6ms/step - loss: 1.1320 - accuracy: 0.5503 - val_loss: 1.2431 - val_accuracy: 0.4854\n",
            "Epoch 116/200\n",
            "13/13 [==============================] - 0s 6ms/step - loss: 1.1216 - accuracy: 0.5536 - val_loss: 1.2417 - val_accuracy: 0.4905\n",
            "Epoch 117/200\n",
            "13/13 [==============================] - 0s 7ms/step - loss: 1.1456 - accuracy: 0.5459 - val_loss: 1.2408 - val_accuracy: 0.4848\n",
            "Epoch 118/200\n",
            "13/13 [==============================] - 0s 6ms/step - loss: 1.1273 - accuracy: 0.5509 - val_loss: 1.2404 - val_accuracy: 0.4879\n",
            "Epoch 119/200\n",
            "13/13 [==============================] - 0s 5ms/step - loss: 1.1390 - accuracy: 0.5400 - val_loss: 1.2403 - val_accuracy: 0.4892\n",
            "Epoch 120/200\n",
            "13/13 [==============================] - 0s 6ms/step - loss: 1.1367 - accuracy: 0.5444 - val_loss: 1.2409 - val_accuracy: 0.4911\n",
            "Epoch 121/200\n",
            "13/13 [==============================] - 0s 6ms/step - loss: 1.1330 - accuracy: 0.5439 - val_loss: 1.2403 - val_accuracy: 0.4873\n",
            "Epoch 122/200\n",
            "13/13 [==============================] - 0s 6ms/step - loss: 1.1153 - accuracy: 0.5563 - val_loss: 1.2391 - val_accuracy: 0.4873\n",
            "Epoch 123/200\n",
            "13/13 [==============================] - 0s 6ms/step - loss: 1.1266 - accuracy: 0.5465 - val_loss: 1.2398 - val_accuracy: 0.4917\n",
            "Epoch 124/200\n",
            "13/13 [==============================] - 0s 6ms/step - loss: 1.1292 - accuracy: 0.5464 - val_loss: 1.2385 - val_accuracy: 0.4917\n",
            "Epoch 125/200\n",
            "13/13 [==============================] - 0s 6ms/step - loss: 1.1126 - accuracy: 0.5575 - val_loss: 1.2394 - val_accuracy: 0.4886\n",
            "Epoch 126/200\n",
            "13/13 [==============================] - 0s 6ms/step - loss: 1.1285 - accuracy: 0.5545 - val_loss: 1.2377 - val_accuracy: 0.4905\n",
            "Epoch 127/200\n",
            "13/13 [==============================] - 0s 6ms/step - loss: 1.1140 - accuracy: 0.5526 - val_loss: 1.2362 - val_accuracy: 0.4930\n",
            "Epoch 128/200\n",
            "13/13 [==============================] - 0s 6ms/step - loss: 1.1244 - accuracy: 0.5499 - val_loss: 1.2366 - val_accuracy: 0.4949\n",
            "Epoch 129/200\n",
            "13/13 [==============================] - 0s 6ms/step - loss: 1.1230 - accuracy: 0.5510 - val_loss: 1.2390 - val_accuracy: 0.4936\n",
            "Epoch 130/200\n",
            "13/13 [==============================] - 0s 6ms/step - loss: 1.1217 - accuracy: 0.5526 - val_loss: 1.2356 - val_accuracy: 0.4905\n",
            "Epoch 131/200\n",
            "13/13 [==============================] - 0s 6ms/step - loss: 1.1226 - accuracy: 0.5490 - val_loss: 1.2373 - val_accuracy: 0.4917\n",
            "Epoch 132/200\n",
            "13/13 [==============================] - 0s 6ms/step - loss: 1.1104 - accuracy: 0.5511 - val_loss: 1.2353 - val_accuracy: 0.4917\n",
            "Epoch 133/200\n",
            "13/13 [==============================] - 0s 6ms/step - loss: 1.1167 - accuracy: 0.5556 - val_loss: 1.2343 - val_accuracy: 0.4936\n",
            "Epoch 134/200\n",
            "13/13 [==============================] - 0s 6ms/step - loss: 1.1185 - accuracy: 0.5477 - val_loss: 1.2361 - val_accuracy: 0.4905\n",
            "Epoch 135/200\n",
            "13/13 [==============================] - 0s 6ms/step - loss: 1.1180 - accuracy: 0.5519 - val_loss: 1.2358 - val_accuracy: 0.4879\n",
            "Epoch 136/200\n",
            "13/13 [==============================] - 0s 6ms/step - loss: 1.1052 - accuracy: 0.5618 - val_loss: 1.2346 - val_accuracy: 0.4905\n",
            "Epoch 137/200\n",
            "13/13 [==============================] - 0s 6ms/step - loss: 1.1158 - accuracy: 0.5596 - val_loss: 1.2326 - val_accuracy: 0.4917\n",
            "Epoch 138/200\n",
            "13/13 [==============================] - 0s 6ms/step - loss: 1.1203 - accuracy: 0.5571 - val_loss: 1.2383 - val_accuracy: 0.4911\n",
            "Epoch 139/200\n",
            "13/13 [==============================] - 0s 6ms/step - loss: 1.1047 - accuracy: 0.5604 - val_loss: 1.2312 - val_accuracy: 0.4911\n",
            "Epoch 140/200\n",
            "13/13 [==============================] - 0s 6ms/step - loss: 1.0966 - accuracy: 0.5698 - val_loss: 1.2339 - val_accuracy: 0.4892\n",
            "Epoch 141/200\n",
            "13/13 [==============================] - 0s 6ms/step - loss: 1.1118 - accuracy: 0.5532 - val_loss: 1.2304 - val_accuracy: 0.4924\n",
            "Epoch 142/200\n",
            "13/13 [==============================] - 0s 6ms/step - loss: 1.1023 - accuracy: 0.5600 - val_loss: 1.2330 - val_accuracy: 0.4962\n",
            "Epoch 143/200\n",
            "13/13 [==============================] - 0s 6ms/step - loss: 1.0970 - accuracy: 0.5579 - val_loss: 1.2334 - val_accuracy: 0.4949\n",
            "Epoch 144/200\n",
            "13/13 [==============================] - 0s 6ms/step - loss: 1.1061 - accuracy: 0.5621 - val_loss: 1.2308 - val_accuracy: 0.4911\n",
            "Epoch 145/200\n",
            "13/13 [==============================] - 0s 6ms/step - loss: 1.1053 - accuracy: 0.5619 - val_loss: 1.2305 - val_accuracy: 0.4956\n",
            "Epoch 146/200\n",
            "13/13 [==============================] - 0s 7ms/step - loss: 1.0893 - accuracy: 0.5740 - val_loss: 1.2317 - val_accuracy: 0.4930\n",
            "Epoch 147/200\n",
            "13/13 [==============================] - 0s 6ms/step - loss: 1.1032 - accuracy: 0.5704 - val_loss: 1.2306 - val_accuracy: 0.4981\n",
            "Epoch 148/200\n",
            "13/13 [==============================] - 0s 6ms/step - loss: 1.0924 - accuracy: 0.5697 - val_loss: 1.2304 - val_accuracy: 0.4956\n",
            "Epoch 149/200\n",
            "13/13 [==============================] - 0s 6ms/step - loss: 1.1010 - accuracy: 0.5657 - val_loss: 1.2308 - val_accuracy: 0.4930\n",
            "Epoch 150/200\n",
            "13/13 [==============================] - 0s 6ms/step - loss: 1.0974 - accuracy: 0.5676 - val_loss: 1.2290 - val_accuracy: 0.4936\n",
            "Epoch 151/200\n",
            "13/13 [==============================] - 0s 6ms/step - loss: 1.0944 - accuracy: 0.5620 - val_loss: 1.2311 - val_accuracy: 0.4956\n",
            "Epoch 152/200\n",
            "13/13 [==============================] - 0s 6ms/step - loss: 1.1028 - accuracy: 0.5641 - val_loss: 1.2284 - val_accuracy: 0.4949\n",
            "Epoch 153/200\n",
            "13/13 [==============================] - 0s 6ms/step - loss: 1.0924 - accuracy: 0.5690 - val_loss: 1.2291 - val_accuracy: 0.4962\n",
            "Epoch 154/200\n",
            "13/13 [==============================] - 0s 6ms/step - loss: 1.1015 - accuracy: 0.5585 - val_loss: 1.2294 - val_accuracy: 0.5006\n",
            "Epoch 155/200\n",
            "13/13 [==============================] - 0s 7ms/step - loss: 1.0874 - accuracy: 0.5736 - val_loss: 1.2288 - val_accuracy: 0.4975\n",
            "Epoch 156/200\n",
            "13/13 [==============================] - 0s 6ms/step - loss: 1.1034 - accuracy: 0.5682 - val_loss: 1.2268 - val_accuracy: 0.4936\n",
            "Epoch 157/200\n",
            "13/13 [==============================] - 0s 6ms/step - loss: 1.0933 - accuracy: 0.5664 - val_loss: 1.2284 - val_accuracy: 0.4905\n",
            "Epoch 158/200\n",
            "13/13 [==============================] - 0s 6ms/step - loss: 1.0952 - accuracy: 0.5716 - val_loss: 1.2283 - val_accuracy: 0.4975\n",
            "Epoch 159/200\n",
            "13/13 [==============================] - 0s 6ms/step - loss: 1.0967 - accuracy: 0.5663 - val_loss: 1.2281 - val_accuracy: 0.4994\n",
            "Epoch 160/200\n",
            "13/13 [==============================] - 0s 6ms/step - loss: 1.0985 - accuracy: 0.5720 - val_loss: 1.2271 - val_accuracy: 0.4956\n",
            "Epoch 161/200\n",
            "13/13 [==============================] - 0s 7ms/step - loss: 1.1033 - accuracy: 0.5595 - val_loss: 1.2276 - val_accuracy: 0.4924\n",
            "Epoch 162/200\n",
            "13/13 [==============================] - 0s 6ms/step - loss: 1.0843 - accuracy: 0.5731 - val_loss: 1.2272 - val_accuracy: 0.4975\n",
            "Epoch 163/200\n",
            "13/13 [==============================] - 0s 6ms/step - loss: 1.0886 - accuracy: 0.5662 - val_loss: 1.2273 - val_accuracy: 0.4949\n",
            "Epoch 164/200\n",
            "13/13 [==============================] - 0s 6ms/step - loss: 1.0991 - accuracy: 0.5620 - val_loss: 1.2255 - val_accuracy: 0.4962\n",
            "Epoch 165/200\n",
            "13/13 [==============================] - 0s 7ms/step - loss: 1.0726 - accuracy: 0.5814 - val_loss: 1.2279 - val_accuracy: 0.4943\n",
            "Epoch 166/200\n",
            "13/13 [==============================] - 0s 7ms/step - loss: 1.0787 - accuracy: 0.5828 - val_loss: 1.2240 - val_accuracy: 0.4936\n",
            "Epoch 167/200\n",
            "13/13 [==============================] - 0s 6ms/step - loss: 1.0944 - accuracy: 0.5668 - val_loss: 1.2253 - val_accuracy: 0.4994\n",
            "Epoch 168/200\n",
            "13/13 [==============================] - 0s 7ms/step - loss: 1.0843 - accuracy: 0.5818 - val_loss: 1.2256 - val_accuracy: 0.5006\n",
            "Epoch 169/200\n",
            "13/13 [==============================] - 0s 6ms/step - loss: 1.0773 - accuracy: 0.5728 - val_loss: 1.2248 - val_accuracy: 0.4905\n",
            "Epoch 170/200\n",
            "13/13 [==============================] - 0s 6ms/step - loss: 1.0735 - accuracy: 0.5823 - val_loss: 1.2247 - val_accuracy: 0.4936\n",
            "Epoch 171/200\n",
            "13/13 [==============================] - 0s 6ms/step - loss: 1.0745 - accuracy: 0.5706 - val_loss: 1.2283 - val_accuracy: 0.4949\n",
            "Epoch 172/200\n",
            "13/13 [==============================] - 0s 6ms/step - loss: 1.0782 - accuracy: 0.5725 - val_loss: 1.2235 - val_accuracy: 0.4987\n",
            "Epoch 173/200\n",
            "13/13 [==============================] - 0s 6ms/step - loss: 1.0810 - accuracy: 0.5776 - val_loss: 1.2241 - val_accuracy: 0.4987\n",
            "Epoch 174/200\n",
            "13/13 [==============================] - 0s 7ms/step - loss: 1.0952 - accuracy: 0.5645 - val_loss: 1.2251 - val_accuracy: 0.4975\n",
            "Epoch 175/200\n",
            "13/13 [==============================] - 0s 6ms/step - loss: 1.0754 - accuracy: 0.5769 - val_loss: 1.2227 - val_accuracy: 0.4962\n",
            "Epoch 176/200\n",
            "13/13 [==============================] - 0s 6ms/step - loss: 1.0670 - accuracy: 0.5764 - val_loss: 1.2254 - val_accuracy: 0.4962\n",
            "Epoch 177/200\n",
            "13/13 [==============================] - 0s 6ms/step - loss: 1.0764 - accuracy: 0.5805 - val_loss: 1.2243 - val_accuracy: 0.4975\n",
            "Epoch 178/200\n",
            "13/13 [==============================] - 0s 6ms/step - loss: 1.0821 - accuracy: 0.5728 - val_loss: 1.2229 - val_accuracy: 0.5032\n",
            "Epoch 179/200\n",
            "13/13 [==============================] - 0s 6ms/step - loss: 1.0697 - accuracy: 0.5772 - val_loss: 1.2237 - val_accuracy: 0.4987\n",
            "Epoch 180/200\n",
            "13/13 [==============================] - 0s 6ms/step - loss: 1.0819 - accuracy: 0.5712 - val_loss: 1.2231 - val_accuracy: 0.4962\n",
            "Epoch 181/200\n",
            "13/13 [==============================] - 0s 6ms/step - loss: 1.0689 - accuracy: 0.5854 - val_loss: 1.2248 - val_accuracy: 0.4962\n",
            "Epoch 182/200\n",
            "13/13 [==============================] - 0s 6ms/step - loss: 1.0755 - accuracy: 0.5740 - val_loss: 1.2233 - val_accuracy: 0.5032\n",
            "Epoch 183/200\n",
            "13/13 [==============================] - 0s 7ms/step - loss: 1.0671 - accuracy: 0.5802 - val_loss: 1.2238 - val_accuracy: 0.4994\n",
            "Epoch 184/200\n",
            "13/13 [==============================] - 0s 7ms/step - loss: 1.0650 - accuracy: 0.5780 - val_loss: 1.2241 - val_accuracy: 0.4949\n",
            "Epoch 185/200\n",
            "13/13 [==============================] - 0s 6ms/step - loss: 1.0604 - accuracy: 0.5791 - val_loss: 1.2227 - val_accuracy: 0.4981\n",
            "Epoch 186/200\n",
            "13/13 [==============================] - 0s 6ms/step - loss: 1.0771 - accuracy: 0.5759 - val_loss: 1.2232 - val_accuracy: 0.4968\n",
            "Epoch 187/200\n",
            "13/13 [==============================] - 0s 6ms/step - loss: 1.0660 - accuracy: 0.5778 - val_loss: 1.2235 - val_accuracy: 0.5006\n",
            "Epoch 188/200\n",
            "13/13 [==============================] - 0s 7ms/step - loss: 1.0786 - accuracy: 0.5712 - val_loss: 1.2209 - val_accuracy: 0.4962\n",
            "Epoch 189/200\n",
            "13/13 [==============================] - 0s 6ms/step - loss: 1.0623 - accuracy: 0.5847 - val_loss: 1.2241 - val_accuracy: 0.5006\n",
            "Epoch 190/200\n",
            "13/13 [==============================] - 0s 6ms/step - loss: 1.0827 - accuracy: 0.5718 - val_loss: 1.2200 - val_accuracy: 0.4962\n",
            "Epoch 191/200\n",
            "13/13 [==============================] - 0s 6ms/step - loss: 1.0583 - accuracy: 0.5823 - val_loss: 1.2209 - val_accuracy: 0.5044\n",
            "Epoch 192/200\n",
            "13/13 [==============================] - 0s 7ms/step - loss: 1.0561 - accuracy: 0.5890 - val_loss: 1.2220 - val_accuracy: 0.4956\n",
            "Epoch 193/200\n",
            "13/13 [==============================] - 0s 7ms/step - loss: 1.0676 - accuracy: 0.5764 - val_loss: 1.2203 - val_accuracy: 0.5013\n",
            "Epoch 194/200\n",
            "13/13 [==============================] - 0s 6ms/step - loss: 1.0692 - accuracy: 0.5822 - val_loss: 1.2215 - val_accuracy: 0.5000\n",
            "Epoch 195/200\n",
            "13/13 [==============================] - 0s 6ms/step - loss: 1.0705 - accuracy: 0.5736 - val_loss: 1.2199 - val_accuracy: 0.5032\n",
            "Epoch 196/200\n",
            "13/13 [==============================] - 0s 7ms/step - loss: 1.0720 - accuracy: 0.5762 - val_loss: 1.2211 - val_accuracy: 0.4981\n",
            "Epoch 197/200\n",
            "13/13 [==============================] - 0s 6ms/step - loss: 1.0593 - accuracy: 0.5823 - val_loss: 1.2198 - val_accuracy: 0.4975\n",
            "Epoch 198/200\n",
            "13/13 [==============================] - 0s 8ms/step - loss: 1.0507 - accuracy: 0.5796 - val_loss: 1.2202 - val_accuracy: 0.5025\n",
            "Epoch 199/200\n",
            "13/13 [==============================] - 0s 6ms/step - loss: 1.0571 - accuracy: 0.5864 - val_loss: 1.2202 - val_accuracy: 0.5006\n",
            "Epoch 200/200\n",
            "13/13 [==============================] - 0s 6ms/step - loss: 1.0708 - accuracy: 0.5817 - val_loss: 1.2203 - val_accuracy: 0.5025\n"
          ],
          "name": "stdout"
        }
      ]
    },
    {
      "cell_type": "markdown",
      "metadata": {
        "id": "JbgfFBj9bov3"
      },
      "source": [
        "#### Visualization"
      ]
    },
    {
      "cell_type": "code",
      "metadata": {
        "id": "kop9ts63K358"
      },
      "source": [
        "accuracy=history_3.history[\"accuracy\"]"
      ],
      "execution_count": 164,
      "outputs": []
    },
    {
      "cell_type": "code",
      "metadata": {
        "id": "xDGag96UK5gH"
      },
      "source": [
        "val_accuracy=history_3.history[\"val_accuracy\"]"
      ],
      "execution_count": 165,
      "outputs": []
    },
    {
      "cell_type": "code",
      "metadata": {
        "colab": {
          "base_uri": "https://localhost:8080/",
          "height": 445
        },
        "id": "cZD55ww5K5m3",
        "outputId": "c357285f-1df6-4f6c-c692-6cd83a22836b"
      },
      "source": [
        "plt.figure(figsize=(7,7))\r\n",
        "plt.plot(accuracy, label=\"accuracy\")\r\n",
        "plt.plot(val_accuracy, label=\"validation accuracy\")\r\n",
        "plt.legend()\r\n",
        "plt.xticks(np.arange(0, 200, step=15))\r\n",
        "plt.xlabel('epochs')\r\n",
        "plt.ylabel(\"%\")\r\n",
        "plt.show()"
      ],
      "execution_count": 166,
      "outputs": [
        {
          "output_type": "display_data",
          "data": {
            "image/png": "[encoded data removed]",
            "text/plain": [
              "<Figure size 504x504 with 1 Axes>"
            ]
          },
          "metadata": {
            "tags": [],
            "needs_background": "light"
          }
        }
      ]
    },
    {
      "cell_type": "markdown",
      "metadata": {
        "id": "CvDFrEIwLK5J"
      },
      "source": [
        "We can see clearly an overfitting with the accuracy from the 60th epoch"
      ]
    },
    {
      "cell_type": "code",
      "metadata": {
        "colab": {
          "base_uri": "https://localhost:8080/"
        },
        "id": "Z_WMp-vQKZhZ",
        "outputId": "7b9de6a4-b55a-49ec-964f-02f2cc2bbdf4"
      },
      "source": [
        "model_3.evaluate(test_X, test_y)"
      ],
      "execution_count": 167,
      "outputs": [
        {
          "output_type": "stream",
          "text": [
            "63/63 [==============================] - 0s 1ms/step - loss: 1.2137 - accuracy: 0.5080\n"
          ],
          "name": "stdout"
        },
        {
          "output_type": "execute_result",
          "data": {
            "text/plain": [
              "[1.21372652053833, 0.5079840421676636]"
            ]
          },
          "metadata": {
            "tags": []
          },
          "execution_count": 167
        }
      ]
    },
    {
      "cell_type": "code",
      "metadata": {
        "id": "kfDq20uvLyEl"
      },
      "source": [
        "val_loss =history_3.history[\"val_loss\"]"
      ],
      "execution_count": 168,
      "outputs": []
    },
    {
      "cell_type": "code",
      "metadata": {
        "id": "OrnPHOPrLyJa"
      },
      "source": [
        "loss =history_3.history[\"loss\"]"
      ],
      "execution_count": 169,
      "outputs": []
    },
    {
      "cell_type": "code",
      "metadata": {
        "colab": {
          "base_uri": "https://localhost:8080/",
          "height": 442
        },
        "id": "y5FfuK5MLyRK",
        "outputId": "a5e17da8-c4fb-4ddb-b1a4-0ad84e7394b4"
      },
      "source": [
        "plt.figure(figsize=(7,7))\r\n",
        "plt.plot(loss, label=\"loss\")\r\n",
        "plt.plot(val_loss, label=\"validation loss\")\r\n",
        "plt.legend()\r\n",
        "plt.xticks(np.arange(0, 200, step=15))\r\n",
        "plt.xlabel('epochs')\r\n",
        "plt.show()"
      ],
      "execution_count": 170,
      "outputs": [
        {
          "output_type": "display_data",
          "data": {
            "image/png": "[encoded data removed]",
            "text/plain": [
              "<Figure size 504x504 with 1 Axes>"
            ]
          },
          "metadata": {
            "tags": [],
            "needs_background": "light"
          }
        }
      ]
    },
    {
      "cell_type": "markdown",
      "metadata": {
        "id": "fMFYwxtwMXBJ"
      },
      "source": [
        "Same as for the accuracy, there is an overfitting from the 60th epoch"
      ]
    },
    {
      "cell_type": "markdown",
      "metadata": {
        "id": "YDhmwSWPOb2F"
      },
      "source": [
        "We need to reduce the epoch number to avoid the overfitting.\r\n",
        "I retake the last model but with 60 epochs."
      ]
    },
    {
      "cell_type": "code",
      "metadata": {
        "colab": {
          "base_uri": "https://localhost:8080/"
        },
        "id": "ijQCRekPO6gE",
        "outputId": "d775f709-e399-4b14-a9e8-e75c91c03191"
      },
      "source": [
        "history_3 = model_3.fit(train_X, train_y, validation_split=0.2, batch_size=512, epochs = 60)"
      ],
      "execution_count": 171,
      "outputs": [
        {
          "output_type": "stream",
          "text": [
            "Epoch 1/60\n",
            "13/13 [==============================] - 0s 10ms/step - loss: 1.0562 - accuracy: 0.5847 - val_loss: 1.2206 - val_accuracy: 0.5013\n",
            "Epoch 2/60\n",
            "13/13 [==============================] - 0s 6ms/step - loss: 1.0559 - accuracy: 0.5882 - val_loss: 1.2197 - val_accuracy: 0.5006\n",
            "Epoch 3/60\n",
            "13/13 [==============================] - 0s 6ms/step - loss: 1.0558 - accuracy: 0.5865 - val_loss: 1.2203 - val_accuracy: 0.4968\n",
            "Epoch 4/60\n",
            "13/13 [==============================] - 0s 6ms/step - loss: 1.0557 - accuracy: 0.5884 - val_loss: 1.2198 - val_accuracy: 0.5013\n",
            "Epoch 5/60\n",
            "13/13 [==============================] - 0s 6ms/step - loss: 1.0547 - accuracy: 0.5854 - val_loss: 1.2204 - val_accuracy: 0.5038\n",
            "Epoch 6/60\n",
            "13/13 [==============================] - 0s 6ms/step - loss: 1.0531 - accuracy: 0.5863 - val_loss: 1.2172 - val_accuracy: 0.4987\n",
            "Epoch 7/60\n",
            "13/13 [==============================] - 0s 6ms/step - loss: 1.0521 - accuracy: 0.5878 - val_loss: 1.2192 - val_accuracy: 0.4987\n",
            "Epoch 8/60\n",
            "13/13 [==============================] - 0s 6ms/step - loss: 1.0515 - accuracy: 0.5871 - val_loss: 1.2205 - val_accuracy: 0.5006\n",
            "Epoch 9/60\n",
            "13/13 [==============================] - 0s 7ms/step - loss: 1.0502 - accuracy: 0.5895 - val_loss: 1.2167 - val_accuracy: 0.5032\n",
            "Epoch 10/60\n",
            "13/13 [==============================] - 0s 6ms/step - loss: 1.0505 - accuracy: 0.5911 - val_loss: 1.2180 - val_accuracy: 0.5025\n",
            "Epoch 11/60\n",
            "13/13 [==============================] - 0s 6ms/step - loss: 1.0492 - accuracy: 0.5886 - val_loss: 1.2180 - val_accuracy: 0.5038\n",
            "Epoch 12/60\n",
            "13/13 [==============================] - 0s 6ms/step - loss: 1.0485 - accuracy: 0.5897 - val_loss: 1.2174 - val_accuracy: 0.5019\n",
            "Epoch 13/60\n",
            "13/13 [==============================] - 0s 6ms/step - loss: 1.0480 - accuracy: 0.5892 - val_loss: 1.2182 - val_accuracy: 0.5038\n",
            "Epoch 14/60\n",
            "13/13 [==============================] - 0s 6ms/step - loss: 1.0476 - accuracy: 0.5921 - val_loss: 1.2189 - val_accuracy: 0.5013\n",
            "Epoch 15/60\n",
            "13/13 [==============================] - 0s 6ms/step - loss: 1.0463 - accuracy: 0.5908 - val_loss: 1.2168 - val_accuracy: 0.5057\n",
            "Epoch 16/60\n",
            "13/13 [==============================] - 0s 6ms/step - loss: 1.0462 - accuracy: 0.5908 - val_loss: 1.2209 - val_accuracy: 0.5044\n",
            "Epoch 17/60\n",
            "13/13 [==============================] - 0s 6ms/step - loss: 1.0455 - accuracy: 0.5909 - val_loss: 1.2164 - val_accuracy: 0.5057\n",
            "Epoch 18/60\n",
            "13/13 [==============================] - 0s 6ms/step - loss: 1.0443 - accuracy: 0.5927 - val_loss: 1.2205 - val_accuracy: 0.5051\n",
            "Epoch 19/60\n",
            "13/13 [==============================] - 0s 6ms/step - loss: 1.0440 - accuracy: 0.5925 - val_loss: 1.2161 - val_accuracy: 0.5051\n",
            "Epoch 20/60\n",
            "13/13 [==============================] - 0s 6ms/step - loss: 1.0427 - accuracy: 0.5927 - val_loss: 1.2186 - val_accuracy: 0.5038\n",
            "Epoch 21/60\n",
            "13/13 [==============================] - 0s 6ms/step - loss: 1.0417 - accuracy: 0.5927 - val_loss: 1.2161 - val_accuracy: 0.5057\n",
            "Epoch 22/60\n",
            "13/13 [==============================] - 0s 6ms/step - loss: 1.0412 - accuracy: 0.5921 - val_loss: 1.2182 - val_accuracy: 0.5025\n",
            "Epoch 23/60\n",
            "13/13 [==============================] - 0s 6ms/step - loss: 1.0402 - accuracy: 0.5946 - val_loss: 1.2172 - val_accuracy: 0.5076\n",
            "Epoch 24/60\n",
            "13/13 [==============================] - 0s 6ms/step - loss: 1.0396 - accuracy: 0.5951 - val_loss: 1.2177 - val_accuracy: 0.5051\n",
            "Epoch 25/60\n",
            "13/13 [==============================] - 0s 6ms/step - loss: 1.0394 - accuracy: 0.5946 - val_loss: 1.2159 - val_accuracy: 0.5051\n",
            "Epoch 26/60\n",
            "13/13 [==============================] - 0s 7ms/step - loss: 1.0393 - accuracy: 0.5940 - val_loss: 1.2172 - val_accuracy: 0.5038\n",
            "Epoch 27/60\n",
            "13/13 [==============================] - 0s 6ms/step - loss: 1.0380 - accuracy: 0.5959 - val_loss: 1.2189 - val_accuracy: 0.5070\n",
            "Epoch 28/60\n",
            "13/13 [==============================] - 0s 6ms/step - loss: 1.0373 - accuracy: 0.5963 - val_loss: 1.2172 - val_accuracy: 0.5051\n",
            "Epoch 29/60\n",
            "13/13 [==============================] - 0s 6ms/step - loss: 1.0364 - accuracy: 0.5957 - val_loss: 1.2169 - val_accuracy: 0.5108\n",
            "Epoch 30/60\n",
            "13/13 [==============================] - 0s 6ms/step - loss: 1.0358 - accuracy: 0.5971 - val_loss: 1.2180 - val_accuracy: 0.5089\n",
            "Epoch 31/60\n",
            "13/13 [==============================] - 0s 6ms/step - loss: 1.0359 - accuracy: 0.5979 - val_loss: 1.2157 - val_accuracy: 0.5057\n",
            "Epoch 32/60\n",
            "13/13 [==============================] - 0s 6ms/step - loss: 1.0343 - accuracy: 0.5956 - val_loss: 1.2169 - val_accuracy: 0.5127\n",
            "Epoch 33/60\n",
            "13/13 [==============================] - 0s 6ms/step - loss: 1.0330 - accuracy: 0.5978 - val_loss: 1.2163 - val_accuracy: 0.5127\n",
            "Epoch 34/60\n",
            "13/13 [==============================] - 0s 6ms/step - loss: 1.0330 - accuracy: 0.5957 - val_loss: 1.2171 - val_accuracy: 0.5076\n",
            "Epoch 35/60\n",
            "13/13 [==============================] - 0s 6ms/step - loss: 1.0329 - accuracy: 0.5967 - val_loss: 1.2154 - val_accuracy: 0.5057\n",
            "Epoch 36/60\n",
            "13/13 [==============================] - 0s 6ms/step - loss: 1.0318 - accuracy: 0.5983 - val_loss: 1.2156 - val_accuracy: 0.5140\n",
            "Epoch 37/60\n",
            "13/13 [==============================] - 0s 6ms/step - loss: 1.0319 - accuracy: 0.5984 - val_loss: 1.2187 - val_accuracy: 0.5076\n",
            "Epoch 38/60\n",
            "13/13 [==============================] - 0s 6ms/step - loss: 1.0305 - accuracy: 0.6006 - val_loss: 1.2162 - val_accuracy: 0.5076\n",
            "Epoch 39/60\n",
            "13/13 [==============================] - 0s 6ms/step - loss: 1.0300 - accuracy: 0.5984 - val_loss: 1.2182 - val_accuracy: 0.5108\n",
            "Epoch 40/60\n",
            "13/13 [==============================] - 0s 6ms/step - loss: 1.0289 - accuracy: 0.5995 - val_loss: 1.2154 - val_accuracy: 0.5057\n",
            "Epoch 41/60\n",
            "13/13 [==============================] - 0s 6ms/step - loss: 1.0290 - accuracy: 0.6008 - val_loss: 1.2169 - val_accuracy: 0.5121\n",
            "Epoch 42/60\n",
            "13/13 [==============================] - 0s 6ms/step - loss: 1.0285 - accuracy: 0.5998 - val_loss: 1.2168 - val_accuracy: 0.5133\n",
            "Epoch 43/60\n",
            "13/13 [==============================] - 0s 6ms/step - loss: 1.0267 - accuracy: 0.5994 - val_loss: 1.2169 - val_accuracy: 0.5083\n",
            "Epoch 44/60\n",
            "13/13 [==============================] - 0s 6ms/step - loss: 1.0259 - accuracy: 0.6014 - val_loss: 1.2163 - val_accuracy: 0.5133\n",
            "Epoch 45/60\n",
            "13/13 [==============================] - 0s 6ms/step - loss: 1.0260 - accuracy: 0.5998 - val_loss: 1.2164 - val_accuracy: 0.5095\n",
            "Epoch 46/60\n",
            "13/13 [==============================] - 0s 6ms/step - loss: 1.0272 - accuracy: 0.5973 - val_loss: 1.2205 - val_accuracy: 0.5089\n",
            "Epoch 47/60\n",
            "13/13 [==============================] - 0s 6ms/step - loss: 1.0249 - accuracy: 0.6016 - val_loss: 1.2147 - val_accuracy: 0.5095\n",
            "Epoch 48/60\n",
            "13/13 [==============================] - 0s 6ms/step - loss: 1.0239 - accuracy: 0.6022 - val_loss: 1.2166 - val_accuracy: 0.5121\n",
            "Epoch 49/60\n",
            "13/13 [==============================] - 0s 6ms/step - loss: 1.0233 - accuracy: 0.5998 - val_loss: 1.2158 - val_accuracy: 0.5165\n",
            "Epoch 50/60\n",
            "13/13 [==============================] - 0s 6ms/step - loss: 1.0222 - accuracy: 0.6022 - val_loss: 1.2151 - val_accuracy: 0.5095\n",
            "Epoch 51/60\n",
            "13/13 [==============================] - 0s 6ms/step - loss: 1.0220 - accuracy: 0.6017 - val_loss: 1.2145 - val_accuracy: 0.5083\n",
            "Epoch 52/60\n",
            "13/13 [==============================] - 0s 6ms/step - loss: 1.0215 - accuracy: 0.5989 - val_loss: 1.2148 - val_accuracy: 0.5152\n",
            "Epoch 53/60\n",
            "13/13 [==============================] - 0s 6ms/step - loss: 1.0204 - accuracy: 0.6027 - val_loss: 1.2173 - val_accuracy: 0.5102\n",
            "Epoch 54/60\n",
            "13/13 [==============================] - 0s 6ms/step - loss: 1.0202 - accuracy: 0.6000 - val_loss: 1.2137 - val_accuracy: 0.5102\n",
            "Epoch 55/60\n",
            "13/13 [==============================] - 0s 6ms/step - loss: 1.0201 - accuracy: 0.6038 - val_loss: 1.2150 - val_accuracy: 0.5127\n",
            "Epoch 56/60\n",
            "13/13 [==============================] - 0s 6ms/step - loss: 1.0183 - accuracy: 0.6043 - val_loss: 1.2153 - val_accuracy: 0.5102\n",
            "Epoch 57/60\n",
            "13/13 [==============================] - 0s 5ms/step - loss: 1.0184 - accuracy: 0.6032 - val_loss: 1.2156 - val_accuracy: 0.5127\n",
            "Epoch 58/60\n",
            "13/13 [==============================] - 0s 6ms/step - loss: 1.0184 - accuracy: 0.6005 - val_loss: 1.2160 - val_accuracy: 0.5102\n",
            "Epoch 59/60\n",
            "13/13 [==============================] - 0s 6ms/step - loss: 1.0164 - accuracy: 0.6044 - val_loss: 1.2144 - val_accuracy: 0.5121\n",
            "Epoch 60/60\n",
            "13/13 [==============================] - 0s 6ms/step - loss: 1.0159 - accuracy: 0.6046 - val_loss: 1.2156 - val_accuracy: 0.5127\n"
          ],
          "name": "stdout"
        }
      ]
    },
    {
      "cell_type": "code",
      "metadata": {
        "colab": {
          "base_uri": "https://localhost:8080/"
        },
        "id": "-vw0IdZwPI1n",
        "outputId": "4892730c-702a-45d0-bf3c-0ffe587dfed8"
      },
      "source": [
        "model_3.evaluate(test_X, test_y)"
      ],
      "execution_count": 172,
      "outputs": [
        {
          "output_type": "stream",
          "text": [
            "63/63 [==============================] - 0s 989us/step - loss: 1.2093 - accuracy: 0.5130\n"
          ],
          "name": "stdout"
        },
        {
          "output_type": "execute_result",
          "data": {
            "text/plain": [
              "[1.2093394994735718, 0.5129740238189697]"
            ]
          },
          "metadata": {
            "tags": []
          },
          "execution_count": 172
        }
      ]
    },
    {
      "cell_type": "code",
      "metadata": {
        "id": "wRxllyktPPZa"
      },
      "source": [
        "accuracy = history_3.history[\"accuracy\"]"
      ],
      "execution_count": 173,
      "outputs": []
    },
    {
      "cell_type": "code",
      "metadata": {
        "id": "KKF6Io4HPPcP"
      },
      "source": [
        "val_accuracy = history_3.history[\"val_accuracy\"]"
      ],
      "execution_count": 174,
      "outputs": []
    },
    {
      "cell_type": "code",
      "metadata": {
        "colab": {
          "base_uri": "https://localhost:8080/",
          "height": 446
        },
        "id": "mO-94ifKPPe4",
        "outputId": "1b02b49a-f562-4180-d590-11ace9a466a1"
      },
      "source": [
        "plt.figure(figsize=(7,7))\r\n",
        "plt.plot(accuracy, label=\"accuracy\")\r\n",
        "plt.plot(val_accuracy, label=\"validation accuracy\")\r\n",
        "plt.legend()\r\n",
        "plt.xticks(np.arange(0, 60, step=5))\r\n",
        "plt.yticks(np.arange(0,1,step = 0.1))\r\n",
        "plt.xlabel('epochs')\r\n",
        "plt.ylabel(\"%\")\r\n",
        "plt.show()"
      ],
      "execution_count": 175,
      "outputs": [
        {
          "output_type": "display_data",
          "data": {
            "image/png": "[encoded data removed]",
            "text/plain": [
              "<Figure size 504x504 with 1 Axes>"
            ]
          },
          "metadata": {
            "tags": [],
            "needs_background": "light"
          }
        }
      ]
    },
    {
      "cell_type": "markdown",
      "metadata": {
        "id": "a9jTrQrXPodP"
      },
      "source": [
        "Almost 60% of accuracy and as expected no overfitting."
      ]
    },
    {
      "cell_type": "code",
      "metadata": {
        "id": "dV9-gQF-QHNY"
      },
      "source": [
        "loss = history_3.history[\"loss\"]"
      ],
      "execution_count": 176,
      "outputs": []
    },
    {
      "cell_type": "code",
      "metadata": {
        "id": "9zda1FRCQHQZ"
      },
      "source": [
        "val_loss = history_3.history[\"val_loss\"]"
      ],
      "execution_count": 177,
      "outputs": []
    },
    {
      "cell_type": "code",
      "metadata": {
        "colab": {
          "base_uri": "https://localhost:8080/",
          "height": 446
        },
        "id": "GBf0npFGQHUP",
        "outputId": "e53fa38b-9b5e-40b1-cb9a-20ded5edc520"
      },
      "source": [
        "plt.figure(figsize=(7,7))\r\n",
        "plt.plot(loss, label=\"loss\")\r\n",
        "plt.plot(val_loss, label=\"validation loss\")\r\n",
        "plt.legend()\r\n",
        "plt.xticks(np.arange(0, 60, step=5))\r\n",
        "plt.yticks(np.arange(0,2,step = 0.1))\r\n",
        "plt.xlabel('epochs')\r\n",
        "plt.show()"
      ],
      "execution_count": 178,
      "outputs": [
        {
          "output_type": "display_data",
          "data": {
            "image/png": "[encoded data removed]",
            "text/plain": [
              "<Figure size 504x504 with 1 Axes>"
            ]
          },
          "metadata": {
            "tags": [],
            "needs_background": "light"
          }
        }
      ]
    },
    {
      "cell_type": "markdown",
      "metadata": {
        "id": "q897lG1AQiO6"
      },
      "source": [
        "Now that we have observed the model with a different epoch number, let's try to apply different optimizer to it"
      ]
    },
    {
      "cell_type": "code",
      "metadata": {
        "id": "4NCiqoQrQuHR"
      },
      "source": [
        "def fit_model_opt(model, trainX, trainy, testX, testy, opt_name):\r\n",
        "    \r\n",
        "    model.compile(\r\n",
        "        loss='categorical_crossentropy',\r\n",
        "        optimizer=opt_name,\r\n",
        "        metrics=['accuracy']\r\n",
        "    )\r\n",
        "    history = model.fit(trainX, trainy, validation_split=0.2, epochs=60, verbose=0)\r\n",
        "    plt.plot(history.history['accuracy'], label='train', color='r')\r\n",
        "    plt.plot(history.history['val_accuracy'], label='test', color='b')\r\n",
        "    plt.title(f'opt={opt_name}', pad=-50)"
      ],
      "execution_count": 179,
      "outputs": []
    },
    {
      "cell_type": "markdown",
      "metadata": {
        "id": "3ctBGrejRAd0"
      },
      "source": [
        "Here I compare 3 distinct optimizers : Adam, Adagrad, RMSprop "
      ]
    },
    {
      "cell_type": "markdown",
      "metadata": {
        "id": "Nx-rUWwJb2nb"
      },
      "source": [
        "#### Optimizer choice"
      ]
    },
    {
      "cell_type": "code",
      "metadata": {
        "colab": {
          "base_uri": "https://localhost:8080/",
          "height": 857
        },
        "id": "ZqDY07TVQ36a",
        "outputId": "8cc805d2-2883-4c69-e468-00c0df26241d"
      },
      "source": [
        "opt_names = [\"RMSprop\", \"AdaGrad\", \"Adam\"]\r\n",
        "for i, opt in enumerate(opt_names):\r\n",
        "    plt.figure(figsize=(12,20))\r\n",
        "    plot_no = 420 + (i + 1)\r\n",
        "    plt.subplot(plot_no)\r\n",
        "    fit_model_opt(model_3,train_X, train_y, test_X, test_y, opt)\r\n",
        "    plt.yticks(np.arange(0,1,step = 0.1))\r\n",
        "    plt.show()"
      ],
      "execution_count": 180,
      "outputs": [
        {
          "output_type": "display_data",
          "data": {
            "image/png": "[encoded data removed]",
            "text/plain": [
              "<Figure size 864x1440 with 1 Axes>"
            ]
          },
          "metadata": {
            "tags": [],
            "needs_background": "light"
          }
        },
        {
          "output_type": "display_data",
          "data": {
            "image/png": "[encoded data removed]",
            "text/plain": [
              "<Figure size 864x1440 with 1 Axes>"
            ]
          },
          "metadata": {
            "tags": [],
            "needs_background": "light"
          }
        },
        {
          "output_type": "display_data",
          "data": {
            "image/png": "[encoded data removed]",
            "text/plain": [
              "<Figure size 864x1440 with 1 Axes>"
            ]
          },
          "metadata": {
            "tags": [],
            "needs_background": "light"
          }
        }
      ]
    },
    {
      "cell_type": "markdown",
      "metadata": {
        "id": "NsYhVCNZR4JJ"
      },
      "source": [
        "As we can see, AdaGrad is slightly better than the 2 other optimizers. Indeed the variance is a bit lower."
      ]
    },
    {
      "cell_type": "code",
      "metadata": {
        "id": "XmtybGEdSm4x"
      },
      "source": [
        "def fit_model2(model, trainX, trainy, testX, testy, lrate):\r\n",
        "    \r\n",
        "    model.compile(\r\n",
        "        loss='categorical_crossentropy',\r\n",
        "        optimizer=Adagrad(learning_rate=lrate),\r\n",
        "        metrics=['accuracy']\r\n",
        "    )\r\n",
        "    history = model.fit(trainX, trainy, validation_split=0.2, epochs=60, verbose=0)\r\n",
        "    plt.plot(history.history['accuracy'], label='train', color='r')\r\n",
        "    plt.plot(history.history['val_accuracy'], label='test', color='b')\r\n",
        "    plt.title(f'lrate={lrate}', pad=-50)"
      ],
      "execution_count": 181,
      "outputs": []
    },
    {
      "cell_type": "markdown",
      "metadata": {
        "id": "lgdYlHi0cNFU"
      },
      "source": [
        "#### Learning rate choice"
      ]
    },
    {
      "cell_type": "code",
      "metadata": {
        "colab": {
          "base_uri": "https://localhost:8080/",
          "height": 1000
        },
        "id": "eEWCTjmJSxU5",
        "outputId": "f6b95aef-259d-47be-9a4d-b21367ce68a8"
      },
      "source": [
        "learning_rates = [1 * 10**(-n) for n in range(8)]\r\n",
        "for i in range(len(learning_rates)):\r\n",
        "    plt.figure(figsize=(12,20))\r\n",
        "    plot_no = 420 + (i + 1)\r\n",
        "    plt.subplot(plot_no)\r\n",
        "    fit_model2(model_3, train_X, train_y, test_X, test_y, learning_rates[i])\r\n",
        "    plt.yticks(np.arange(0,1,step = 0.1))\r\n",
        "    plt.show()"
      ],
      "execution_count": 182,
      "outputs": [
        {
          "output_type": "display_data",
          "data": {
            "image/png": "[encoded data removed]",
            "text/plain": [
              "<Figure size 864x1440 with 1 Axes>"
            ]
          },
          "metadata": {
            "tags": [],
            "needs_background": "light"
          }
        },
        {
          "output_type": "display_data",
          "data": {
            "image/png": "[encoded data removed]",
            "text/plain": [
              "<Figure size 864x1440 with 1 Axes>"
            ]
          },
          "metadata": {
            "tags": [],
            "needs_background": "light"
          }
        },
        {
          "output_type": "display_data",
          "data": {
            "image/png": "[encoded data removed]",
            "text/plain": [
              "<Figure size 864x1440 with 1 Axes>"
            ]
          },
          "metadata": {
            "tags": [],
            "needs_background": "light"
          }
        },
        {
          "output_type": "display_data",
          "data": {
            "image/png": "[encoded data removed]",
            "text/plain": [
              "<Figure size 864x1440 with 1 Axes>"
            ]
          },
          "metadata": {
            "tags": [],
            "needs_background": "light"
          }
        },
        {
          "output_type": "display_data",
          "data": {
            "image/png": "[encoded data removed]",
            "text/plain": [
              "<Figure size 864x1440 with 1 Axes>"
            ]
          },
          "metadata": {
            "tags": [],
            "needs_background": "light"
          }
        },
        {
          "output_type": "display_data",
          "data": {
            "image/png": "[encoded data removed]",
            "text/plain": [
              "<Figure size 864x1440 with 1 Axes>"
            ]
          },
          "metadata": {
            "tags": [],
            "needs_background": "light"
          }
        },
        {
          "output_type": "display_data",
          "data": {
            "image/png": "[encoded data removed]",
            "text/plain": [
              "<Figure size 864x1440 with 1 Axes>"
            ]
          },
          "metadata": {
            "tags": [],
            "needs_background": "light"
          }
        },
        {
          "output_type": "display_data",
          "data": {
            "image/png": "[encoded data removed]",
            "text/plain": [
              "<Figure size 864x1440 with 1 Axes>"
            ]
          },
          "metadata": {
            "tags": [],
            "needs_background": "light"
          }
        }
      ]
    },
    {
      "cell_type": "markdown",
      "metadata": {
        "id": "RRbA1FfqTn3Y"
      },
      "source": [
        "Now, we need to determine which learning rate fits best the model. We still have to take the variance in consideration. Thus we can choose a learning rate of 0.01"
      ]
    },
    {
      "cell_type": "code",
      "metadata": {
        "id": "eyJfhmsIUWaX"
      },
      "source": [
        "model_3.compile(\r\n",
        "        loss='categorical_crossentropy',\r\n",
        "        optimizer=Adagrad(learning_rate=0.01),\r\n",
        "        metrics=['accuracy']\r\n",
        "    )\r\n",
        "history_3 = model_3.fit(train_X, train_y, validation_split=0.2, epochs=60, verbose=0)"
      ],
      "execution_count": 183,
      "outputs": []
    },
    {
      "cell_type": "code",
      "metadata": {
        "colab": {
          "base_uri": "https://localhost:8080/"
        },
        "id": "pbpkKOcSU677",
        "outputId": "77e56882-9dbd-491e-e8c3-02a8b171eee7"
      },
      "source": [
        "model_3.evaluate(test_X, test_y)"
      ],
      "execution_count": 184,
      "outputs": [
        {
          "output_type": "stream",
          "text": [
            "63/63 [==============================] - 0s 951us/step - loss: 1.5440 - accuracy: 0.4945\n"
          ],
          "name": "stdout"
        },
        {
          "output_type": "execute_result",
          "data": {
            "text/plain": [
              "[1.544002652168274, 0.4945109784603119]"
            ]
          },
          "metadata": {
            "tags": []
          },
          "execution_count": 184
        }
      ]
    },
    {
      "cell_type": "code",
      "metadata": {
        "id": "zE1agTm-VVpw"
      },
      "source": [
        "accuracy = history_3.history[\"accuracy\"]"
      ],
      "execution_count": 185,
      "outputs": []
    },
    {
      "cell_type": "code",
      "metadata": {
        "id": "9ViyuSTnVVw6"
      },
      "source": [
        "val_accuracy = history_3.history[\"val_accuracy\"]"
      ],
      "execution_count": 186,
      "outputs": []
    },
    {
      "cell_type": "code",
      "metadata": {
        "colab": {
          "base_uri": "https://localhost:8080/",
          "height": 446
        },
        "id": "A67kKlM9VV62",
        "outputId": "73d734cd-60b1-4f42-8a69-483883c24801"
      },
      "source": [
        "plt.figure(figsize=(7,7))\r\n",
        "plt.plot(accuracy, label=\"accuracy\")\r\n",
        "plt.plot(val_accuracy, label=\"validation accuracy\")\r\n",
        "plt.legend()\r\n",
        "plt.xticks(np.arange(0, 60, step=5))\r\n",
        "plt.yticks(np.arange(0,1,step = 0.1))\r\n",
        "plt.xlabel('epochs')\r\n",
        "plt.ylabel(\"%\")\r\n",
        "plt.show()"
      ],
      "execution_count": 187,
      "outputs": [
        {
          "output_type": "display_data",
          "data": {
            "image/png": "[encoded data removed]",
            "text/plain": [
              "<Figure size 504x504 with 1 Axes>"
            ]
          },
          "metadata": {
            "tags": [],
            "needs_background": "light"
          }
        }
      ]
    },
    {
      "cell_type": "code",
      "metadata": {
        "id": "1yTTw-_sVpri"
      },
      "source": [
        "loss = history_3.history[\"loss\"]"
      ],
      "execution_count": 188,
      "outputs": []
    },
    {
      "cell_type": "code",
      "metadata": {
        "id": "BIsFNtQjVpuQ"
      },
      "source": [
        "val_loss = history_3.history[\"val_loss\"]"
      ],
      "execution_count": 189,
      "outputs": []
    },
    {
      "cell_type": "code",
      "metadata": {
        "colab": {
          "base_uri": "https://localhost:8080/",
          "height": 446
        },
        "id": "OfN6_Yc-Vpxk",
        "outputId": "1f94b9ac-461b-4aef-9fc7-8c4b3b137034"
      },
      "source": [
        "plt.figure(figsize=(7,7))\r\n",
        "plt.plot(loss, label=\"loss\")\r\n",
        "plt.plot(val_loss, label=\"validation loss\")\r\n",
        "plt.legend()\r\n",
        "plt.xticks(np.arange(0, 60, step=5))\r\n",
        "plt.yticks(np.arange(0,2,step = 0.1))\r\n",
        "plt.xlabel('epochs')\r\n",
        "plt.show()"
      ],
      "execution_count": 190,
      "outputs": [
        {
          "output_type": "display_data",
          "data": {
            "image/png": "[encoded data removed]",
            "text/plain": [
              "<Figure size 504x504 with 1 Axes>"
            ]
          },
          "metadata": {
            "tags": [],
            "needs_background": "light"
          }
        }
      ]
    },
    {
      "cell_type": "markdown",
      "metadata": {
        "id": "TdmgM2ArWETq"
      },
      "source": [
        "With these parameters (optimizer = Adagrad & learning rate = 0.01) we reach an accuracy of 70%."
      ]
    },
    {
      "cell_type": "markdown",
      "metadata": {
        "id": "XduObZR7X858"
      },
      "source": [
        "Let's apply a reglizer l2 of 0.0005"
      ]
    },
    {
      "cell_type": "markdown",
      "metadata": {
        "id": "MEam7I_icfbx"
      },
      "source": [
        "#### Regulizer L2"
      ]
    },
    {
      "cell_type": "code",
      "metadata": {
        "id": "LyD8xhlMYQ11"
      },
      "source": [
        "model_3_bis = keras.Sequential()\r\n",
        "model_3_bis.add(keras.layers.Dense(128, input_dim = 32, activation = \"relu\",kernel_regularizer=keras.regularizers.l2(0.0005)))\r\n",
        "model_3_bis.add(keras.layers.Dense(5, activation= \"softmax\",kernel_regularizer=keras.regularizers.l2(0.0005)))"
      ],
      "execution_count": 191,
      "outputs": []
    },
    {
      "cell_type": "code",
      "metadata": {
        "id": "Hg7HXkI-Yw2e"
      },
      "source": [
        "model_3_bis.compile(\r\n",
        "        loss='categorical_crossentropy',\r\n",
        "        optimizer=Adagrad(learning_rate=0.01),\r\n",
        "        metrics=['accuracy']\r\n",
        "    )\r\n",
        "history_3 = model_3_bis.fit(train_X, train_y, validation_split=0.2, epochs=60, verbose=0)"
      ],
      "execution_count": 192,
      "outputs": []
    },
    {
      "cell_type": "code",
      "metadata": {
        "colab": {
          "base_uri": "https://localhost:8080/"
        },
        "id": "Pji6rNwpY3xj",
        "outputId": "8dbd0da2-1522-4312-e229-d4406a3407ce"
      },
      "source": [
        "model_3_bis.evaluate(test_X, test_y)"
      ],
      "execution_count": 193,
      "outputs": [
        {
          "output_type": "stream",
          "text": [
            "63/63 [==============================] - 0s 979us/step - loss: 1.3633 - accuracy: 0.4521\n"
          ],
          "name": "stdout"
        },
        {
          "output_type": "execute_result",
          "data": {
            "text/plain": [
              "[1.3633049726486206, 0.45209580659866333]"
            ]
          },
          "metadata": {
            "tags": []
          },
          "execution_count": 193
        }
      ]
    },
    {
      "cell_type": "code",
      "metadata": {
        "id": "SHi9q7hcZQ37"
      },
      "source": [
        "accuracy = history_3.history[\"accuracy\"]"
      ],
      "execution_count": 194,
      "outputs": []
    },
    {
      "cell_type": "code",
      "metadata": {
        "id": "3nfHS-SOZQ6Z"
      },
      "source": [
        "val_loss = history_3.history[\"val_loss\"]"
      ],
      "execution_count": 195,
      "outputs": []
    },
    {
      "cell_type": "code",
      "metadata": {
        "colab": {
          "base_uri": "https://localhost:8080/",
          "height": 446
        },
        "id": "IcLC1rb1ZQ89",
        "outputId": "aa2379df-62c4-4729-8b4b-b1f241a19b1d"
      },
      "source": [
        "plt.figure(figsize=(7,7))\r\n",
        "plt.plot(accuracy, label=\"accuracy\")\r\n",
        "plt.plot(val_accuracy, label=\"validation accuracy\")\r\n",
        "plt.legend()\r\n",
        "plt.xticks(np.arange(0, 60, step=5))\r\n",
        "plt.yticks(np.arange(0,1,step = 0.1))\r\n",
        "plt.xlabel('epochs')\r\n",
        "plt.ylabel(\"%\")\r\n",
        "plt.show()"
      ],
      "execution_count": 196,
      "outputs": [
        {
          "output_type": "display_data",
          "data": {
            "image/png": "[encoded data removed]",
            "text/plain": [
              "<Figure size 504x504 with 1 Axes>"
            ]
          },
          "metadata": {
            "tags": [],
            "needs_background": "light"
          }
        }
      ]
    },
    {
      "cell_type": "code",
      "metadata": {
        "id": "kmJAf_1mZgwb"
      },
      "source": [
        "loss = history_3.history[\"loss\"]"
      ],
      "execution_count": 197,
      "outputs": []
    },
    {
      "cell_type": "code",
      "metadata": {
        "id": "5aA3PyHVZgzE"
      },
      "source": [
        "val_loss = history_3.history[\"val_loss\"]"
      ],
      "execution_count": 198,
      "outputs": []
    },
    {
      "cell_type": "code",
      "metadata": {
        "colab": {
          "base_uri": "https://localhost:8080/",
          "height": 446
        },
        "id": "a0mvK0E9Zg10",
        "outputId": "6476369a-e07e-4052-f1ce-57c813421792"
      },
      "source": [
        "plt.figure(figsize=(7,7))\r\n",
        "plt.plot(loss, label=\"loss\")\r\n",
        "plt.plot(val_loss, label=\"validation loss\")\r\n",
        "plt.legend()\r\n",
        "plt.xticks(np.arange(0, 60, step=5))\r\n",
        "plt.yticks(np.arange(0,2,step = 0.1))\r\n",
        "plt.xlabel('epochs')\r\n",
        "plt.show()"
      ],
      "execution_count": 199,
      "outputs": [
        {
          "output_type": "display_data",
          "data": {
            "image/png": "[encoded data removed]",
            "text/plain": [
              "<Figure size 504x504 with 1 Axes>"
            ]
          },
          "metadata": {
            "tags": [],
            "needs_background": "light"
          }
        }
      ]
    },
    {
      "cell_type": "markdown",
      "metadata": {
        "id": "_6pxPvdUaPc6"
      },
      "source": [
        "It leads to nothing because it is not better than previously, especially for the accuracy"
      ]
    },
    {
      "cell_type": "markdown",
      "metadata": {
        "id": "QXF023G4dtJM"
      },
      "source": [
        "#### Decay"
      ]
    },
    {
      "cell_type": "markdown",
      "metadata": {
        "id": "Att-sAePdv2a"
      },
      "source": [
        "Let's see what we obtain with a various decay"
      ]
    },
    {
      "cell_type": "code",
      "metadata": {
        "id": "UNjjQfhOd8DG"
      },
      "source": [
        "def fit_model_decay(model,trainX, trainy, testX, testy, decay):\r\n",
        "    model.compile(\r\n",
        "        loss='categorical_crossentropy',\r\n",
        "        optimizer=Adagrad(learning_rate=0.01, decay=decay),\r\n",
        "        metrics=['accuracy']\r\n",
        "    )\r\n",
        "    history = model.fit(trainX, trainy, validation_split=0.2, epochs=60, verbose=0)\r\n",
        "    plt.plot(history.history['accuracy'], label='train', color='r')\r\n",
        "    plt.plot(history.history['val_accuracy'], label='test', color='b')\r\n",
        "    plt.title(f'decay={decay}', pad=-50)"
      ],
      "execution_count": 204,
      "outputs": []
    },
    {
      "cell_type": "code",
      "metadata": {
        "colab": {
          "base_uri": "https://localhost:8080/",
          "height": 761
        },
        "id": "5irvLtOBeJ0w",
        "outputId": "f2ece3b1-8e10-4605-fff0-e6134d79ff11"
      },
      "source": [
        "decays = [1*10**(-n) for n in range(1, 5)]\r\n",
        "for i, d in enumerate(decays):\r\n",
        "    plt.figure(figsize=(20,12))\r\n",
        "\r\n",
        "    plot_no = 420 + (i + 1)\r\n",
        "    plt.subplot(plot_no)\r\n",
        "    fit_model_decay(model_3, train_X, train_y, test_X, test_y, d)\r\n",
        "    plt.show()"
      ],
      "execution_count": 205,
      "outputs": [
        {
          "output_type": "display_data",
          "data": {
            "image/png": "[encoded data removed]",
            "text/plain": [
              "<Figure size 1440x864 with 1 Axes>"
            ]
          },
          "metadata": {
            "tags": [],
            "needs_background": "light"
          }
        },
        {
          "output_type": "display_data",
          "data": {
            "image/png": "[encoded data removed]",
            "text/plain": [
              "<Figure size 1440x864 with 1 Axes>"
            ]
          },
          "metadata": {
            "tags": [],
            "needs_background": "light"
          }
        },
        {
          "output_type": "display_data",
          "data": {
            "image/png": "[encoded data removed]",
            "text/plain": [
              "<Figure size 1440x864 with 1 Axes>"
            ]
          },
          "metadata": {
            "tags": [],
            "needs_background": "light"
          }
        },
        {
          "output_type": "display_data",
          "data": {
            "image/png": "[encoded data removed]",
            "text/plain": [
              "<Figure size 1440x864 with 1 Axes>"
            ]
          },
          "metadata": {
            "tags": [],
            "needs_background": "light"
          }
        }
      ]
    },
    {
      "cell_type": "markdown",
      "metadata": {
        "id": "jRqYXWp4hrDn"
      },
      "source": [
        "This trial is not concluant, many decays don't change the model as we can see above"
      ]
    },
    {
      "cell_type": "markdown",
      "metadata": {
        "id": "htxDHRJDiRtZ"
      },
      "source": [
        "### Conclusion"
      ]
    },
    {
      "cell_type": "markdown",
      "metadata": {
        "id": "CAUI6h6IiU33"
      },
      "source": [
        "To conclude, I have implemented 3 different neural networks with differrent node numbers inside each layer. They are quite similar as well on the structure and the reults. I have developped one of them (the third) by trying several parameters in order ro improve the prediction rate.\r\n",
        "\r\n",
        "\r\n"
      ]
    },
    {
      "cell_type": "markdown",
      "metadata": {
        "id": "SBJMotfBjAH-"
      },
      "source": [
        "Louis ATALLAH."
      ]
    }
  ]
}